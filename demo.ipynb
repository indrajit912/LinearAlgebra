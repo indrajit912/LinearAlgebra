{
 "cells": [
  {
   "cell_type": "markdown",
   "id": "13e3cc33",
   "metadata": {},
   "source": [
    "# Matrices acting on $\\mathbb{C}^n$\n",
    "                            - By Indrajit Ghosh\n",
    "                            \n",
    "                            \n",
    "Hello, I am Indrajit Ghosh. Recently I've written a Python Library, named $\\textit{linear_algebra}$, which is capable of doing a lots of calculations you come across in Linear Algebra (and Vector calculus)!\n",
    "\n",
    "If that something interests you then just follow the next couple of codes below. All you need is to perform the following commands in a ```jupyter notebook```. The commands are self explanatory.\n",
    "\n",
    "**Requirements:**\n",
    "- Python 3.6 or higher\n",
    "- NumPy\n",
    "- SymPy\n",
    "- Jupyter Notebook \n",
    "\n",
    "Good day!\n"
   ]
  },
  {
   "cell_type": "code",
   "execution_count": 1,
   "id": "48e6c100",
   "metadata": {},
   "outputs": [],
   "source": [
    "from linear_algebra import *  # importing the module"
   ]
  },
  {
   "cell_type": "markdown",
   "id": "0b9a8490",
   "metadata": {},
   "source": [
    "## Matrices"
   ]
  },
  {
   "cell_type": "code",
   "execution_count": 2,
   "id": "57773a3a",
   "metadata": {},
   "outputs": [
    {
     "data": {
      "text/plain": [
       "\n",
       "      (1+0j)           (2+0j)             0j       \n",
       "\n",
       "        0j             (1+0j)             0j       \n",
       "\n",
       "      (1+0j)             0j             (2+0j)     \n"
      ]
     },
     "execution_count": 2,
     "metadata": {},
     "output_type": "execute_result"
    }
   ],
   "source": [
    "A = Matrix([[1, 2, 0],\n",
    "             [0, 1, 0],\n",
    "             [1, 0, 2]])\n",
    "A"
   ]
  },
  {
   "cell_type": "code",
   "execution_count": 3,
   "id": "28f66dd2",
   "metadata": {},
   "outputs": [
    {
     "data": {
      "text/latex": [
       "$\\displaystyle \\left[\\begin{matrix}1.0 & 2.0 & 0\\\\0 & 1.0 & 0\\\\1.0 & 0 & 2.0\\end{matrix}\\right]$"
      ],
      "text/plain": [
       "Matrix([\n",
       "[1.0, 2.0,   0],\n",
       "[  0, 1.0,   0],\n",
       "[1.0,   0, 2.0]])"
      ]
     },
     "execution_count": 3,
     "metadata": {},
     "output_type": "execute_result"
    }
   ],
   "source": [
    "A.prettify()"
   ]
  },
  {
   "cell_type": "code",
   "execution_count": null,
   "id": "c780c0ff",
   "metadata": {},
   "outputs": [],
   "source": []
  },
  {
   "cell_type": "markdown",
   "id": "860f3cba",
   "metadata": {},
   "source": [
    "### Inverse"
   ]
  },
  {
   "cell_type": "code",
   "execution_count": 4,
   "id": "f5cd7bc8",
   "metadata": {},
   "outputs": [
    {
     "data": {
      "text/latex": [
       "$\\displaystyle \\left[\\begin{matrix}1.0 & -2.0 & 0\\\\0 & 1.0 & 0\\\\-0.5 & 1.0 & 0.5\\end{matrix}\\right]$"
      ],
      "text/plain": [
       "Matrix([\n",
       "[ 1.0, -2.0,   0],\n",
       "[   0,  1.0,   0],\n",
       "[-0.5,  1.0, 0.5]])"
      ]
     },
     "execution_count": 4,
     "metadata": {},
     "output_type": "execute_result"
    }
   ],
   "source": [
    "B = A.inverse()\n",
    "B.prettify()"
   ]
  },
  {
   "cell_type": "markdown",
   "id": "03c53bb2",
   "metadata": {},
   "source": [
    "### Transpose: $A^t$"
   ]
  },
  {
   "cell_type": "code",
   "execution_count": 5,
   "id": "9e192be8",
   "metadata": {},
   "outputs": [
    {
     "data": {
      "text/latex": [
       "$\\displaystyle \\left[\\begin{matrix}1.0 & 0 & 1.0\\\\2.0 & 1.0 & 0\\\\0 & 0 & 2.0\\end{matrix}\\right]$"
      ],
      "text/plain": [
       "Matrix([\n",
       "[1.0,   0, 1.0],\n",
       "[2.0, 1.0,   0],\n",
       "[  0,   0, 2.0]])"
      ]
     },
     "execution_count": 5,
     "metadata": {},
     "output_type": "execute_result"
    }
   ],
   "source": [
    "A_trans = A.transpose()\n",
    "A_trans.prettify()"
   ]
  },
  {
   "cell_type": "markdown",
   "id": "fc796372",
   "metadata": {},
   "source": [
    "### Symmetric"
   ]
  },
  {
   "cell_type": "code",
   "execution_count": 6,
   "id": "2a1e627c",
   "metadata": {},
   "outputs": [
    {
     "data": {
      "text/plain": [
       "False"
      ]
     },
     "execution_count": 6,
     "metadata": {},
     "output_type": "execute_result"
    }
   ],
   "source": [
    "A.is_symmetric()"
   ]
  },
  {
   "cell_type": "markdown",
   "id": "216f4de8",
   "metadata": {},
   "source": [
    "### Conjugate Transpose: $A^*$"
   ]
  },
  {
   "cell_type": "code",
   "execution_count": 7,
   "id": "d9aa302b",
   "metadata": {},
   "outputs": [
    {
     "data": {
      "text/latex": [
       "$\\displaystyle \\left[\\begin{matrix}1.0 & 0 & 1.0\\\\2.0 & 1.0 & 0\\\\0 & 0 & 2.0\\end{matrix}\\right]$"
      ],
      "text/plain": [
       "Matrix([\n",
       "[1.0,   0, 1.0],\n",
       "[2.0, 1.0,   0],\n",
       "[  0,   0, 2.0]])"
      ]
     },
     "execution_count": 7,
     "metadata": {},
     "output_type": "execute_result"
    }
   ],
   "source": [
    "A_st = A.star()\n",
    "A_st.prettify()"
   ]
  },
  {
   "cell_type": "markdown",
   "id": "ee2df053",
   "metadata": {},
   "source": [
    "### Self adjoint"
   ]
  },
  {
   "cell_type": "code",
   "execution_count": 8,
   "id": "0fe89392",
   "metadata": {},
   "outputs": [
    {
     "data": {
      "text/plain": [
       "False"
      ]
     },
     "execution_count": 8,
     "metadata": {},
     "output_type": "execute_result"
    }
   ],
   "source": [
    "A.is_selfadjoint()"
   ]
  },
  {
   "cell_type": "markdown",
   "id": "432b61f4",
   "metadata": {},
   "source": [
    "### Projection"
   ]
  },
  {
   "cell_type": "code",
   "execution_count": 9,
   "id": "66e00f9d",
   "metadata": {},
   "outputs": [
    {
     "data": {
      "text/plain": [
       "False"
      ]
     },
     "execution_count": 9,
     "metadata": {},
     "output_type": "execute_result"
    }
   ],
   "source": [
    "A.is_projection()"
   ]
  },
  {
   "cell_type": "markdown",
   "id": "b2ae0131",
   "metadata": {},
   "source": [
    "### Normal"
   ]
  },
  {
   "cell_type": "code",
   "execution_count": 10,
   "id": "0c408d41",
   "metadata": {},
   "outputs": [
    {
     "data": {
      "text/plain": [
       "False"
      ]
     },
     "execution_count": 10,
     "metadata": {},
     "output_type": "execute_result"
    }
   ],
   "source": [
    "A.is_normal()"
   ]
  },
  {
   "cell_type": "markdown",
   "id": "ec9173cd",
   "metadata": {},
   "source": [
    "### Isometry and Unitary"
   ]
  },
  {
   "cell_type": "code",
   "execution_count": 11,
   "id": "87d74c89",
   "metadata": {},
   "outputs": [
    {
     "data": {
      "text/plain": [
       "False"
      ]
     },
     "execution_count": 11,
     "metadata": {},
     "output_type": "execute_result"
    }
   ],
   "source": [
    "A.is_isometry()"
   ]
  },
  {
   "cell_type": "code",
   "execution_count": 12,
   "id": "ebeb0272",
   "metadata": {},
   "outputs": [
    {
     "data": {
      "text/plain": [
       "False"
      ]
     },
     "execution_count": 12,
     "metadata": {},
     "output_type": "execute_result"
    }
   ],
   "source": [
    "A.is_unitary()"
   ]
  },
  {
   "cell_type": "markdown",
   "id": "4df06ca6",
   "metadata": {},
   "source": [
    "### Positive (Sometimes known as Positive semi definite)\n",
    "\n",
    "$A\\in M_n(\\mathbb{C})$ is called $\\textit{positive}$ iff $A^*=A$ and $\\text{sp}(A)\\subset [0, \\infty)$. \n",
    "\n",
    "It can be proved that if $A\\in M_n(\\mathbb{C})$ then $A$ is positive $\\iff \\forall x\\in \\mathbb{C}^n,~x^*Ax\\ge 0 ~ (i.e., \\langle Ax, x\\rangle \\ge 0)$\n"
   ]
  },
  {
   "cell_type": "code",
   "execution_count": 13,
   "id": "47caf8aa",
   "metadata": {},
   "outputs": [],
   "source": [
    "H = Matrix([[0, 1],\n",
    "           [1, 0]])"
   ]
  },
  {
   "cell_type": "code",
   "execution_count": 14,
   "id": "c377e75b",
   "metadata": {},
   "outputs": [
    {
     "data": {
      "text/plain": [
       "False"
      ]
     },
     "execution_count": 14,
     "metadata": {},
     "output_type": "execute_result"
    }
   ],
   "source": [
    "H.is_positive()"
   ]
  },
  {
   "cell_type": "markdown",
   "id": "36f8b44b",
   "metadata": {},
   "source": [
    "### Positive definite\n",
    "\n",
    "$A\\in M_n(\\mathbb{C})$ is called $\\textit{positive-definite}$ iff $A^*=A$ and $\\text{sp}(A)\\subset (0, \\infty)$. It can be shown: $A\\in M_n(\\mathbb{C})$ is positive definite $\\iff~x^*Ax> 0$.\n",
    "\n",
    "**Note.** \n",
    "1. Positive definite $\\implies$ positive. \n",
    "2. Positive matrix does not have all \\textit{non-negative} entries always!. As an counterexample consider the positive matrix\n",
    "    $$K:=\\begin{pmatrix}2 & -1\\\\-1 & 2\\end{pmatrix}$$\n",
    "    \n",
    "3. A matrix with all entries non-negative does not necessarily be positive. For example take\n",
    "    $$H:=\\begin{pmatrix}0 & 1\\\\1 & 0\\end{pmatrix}$$\n"
   ]
  },
  {
   "cell_type": "code",
   "execution_count": 15,
   "id": "e0f7af72",
   "metadata": {},
   "outputs": [],
   "source": [
    "K = Matrix([[2, -1],\n",
    "           [-1, 2]])"
   ]
  },
  {
   "cell_type": "code",
   "execution_count": 16,
   "id": "daba8162",
   "metadata": {},
   "outputs": [
    {
     "data": {
      "text/plain": [
       "True"
      ]
     },
     "execution_count": 16,
     "metadata": {},
     "output_type": "execute_result"
    }
   ],
   "source": [
    "K.is_positive_definite()"
   ]
  },
  {
   "cell_type": "markdown",
   "id": "d1ac1386",
   "metadata": {},
   "source": [
    "### Permutaion"
   ]
  },
  {
   "cell_type": "code",
   "execution_count": 17,
   "id": "d53736c6",
   "metadata": {},
   "outputs": [
    {
     "data": {
      "text/plain": [
       "False"
      ]
     },
     "execution_count": 17,
     "metadata": {},
     "output_type": "execute_result"
    }
   ],
   "source": [
    "A.is_permutation()"
   ]
  },
  {
   "cell_type": "markdown",
   "id": "a3a4d0ac",
   "metadata": {},
   "source": [
    "### Trace"
   ]
  },
  {
   "cell_type": "code",
   "execution_count": 18,
   "id": "587c8b4f",
   "metadata": {},
   "outputs": [
    {
     "data": {
      "text/plain": [
       "(4+0j)"
      ]
     },
     "execution_count": 18,
     "metadata": {},
     "output_type": "execute_result"
    }
   ],
   "source": [
    "A.trace()"
   ]
  },
  {
   "cell_type": "markdown",
   "id": "46e2fa2b",
   "metadata": {},
   "source": [
    "### Determinant"
   ]
  },
  {
   "cell_type": "code",
   "execution_count": 19,
   "id": "99a6ab50",
   "metadata": {},
   "outputs": [
    {
     "data": {
      "text/plain": [
       "(2+0j)"
      ]
     },
     "execution_count": 19,
     "metadata": {},
     "output_type": "execute_result"
    }
   ],
   "source": [
    "A.det()"
   ]
  },
  {
   "cell_type": "markdown",
   "id": "d0ee6d7a",
   "metadata": {},
   "source": [
    "### Rank"
   ]
  },
  {
   "cell_type": "code",
   "execution_count": 20,
   "id": "f5edde77",
   "metadata": {},
   "outputs": [
    {
     "data": {
      "text/plain": [
       "3"
      ]
     },
     "execution_count": 20,
     "metadata": {},
     "output_type": "execute_result"
    }
   ],
   "source": [
    "A.rank()"
   ]
  },
  {
   "cell_type": "markdown",
   "id": "e5c12cef",
   "metadata": {},
   "source": [
    "### Characteristic Polynomial"
   ]
  },
  {
   "cell_type": "code",
   "execution_count": 21,
   "id": "7bbca4bc",
   "metadata": {},
   "outputs": [
    {
     "data": {
      "text/latex": [
       "$\\displaystyle \\operatorname{PurePoly}{\\left( 1.0 t^{3} - 4.0 t^{2} + 5.0 t - 2.0, t, domain=\\mathbb{R} \\right)}$"
      ],
      "text/plain": [
       "PurePoly(1.0*t**3 - 4.0*t**2 + 5.0*t - 2.0, t, domain='RR')"
      ]
     },
     "execution_count": 21,
     "metadata": {},
     "output_type": "execute_result"
    }
   ],
   "source": [
    "A.charpoly()"
   ]
  },
  {
   "cell_type": "markdown",
   "id": "7094bd70",
   "metadata": {},
   "source": [
    "### Eigenvalues"
   ]
  },
  {
   "cell_type": "code",
   "execution_count": 22,
   "id": "bf6e94e2",
   "metadata": {},
   "outputs": [
    {
     "data": {
      "text/plain": [
       "array([2.+0.j, 1.+0.j, 1.+0.j])"
      ]
     },
     "execution_count": 22,
     "metadata": {},
     "output_type": "execute_result"
    }
   ],
   "source": [
    "A.eigen_values()"
   ]
  },
  {
   "cell_type": "markdown",
   "id": "8481321c",
   "metadata": {},
   "source": [
    "## Matrix Norms\n",
    "\n",
    "### $\\ell^p$ norm of a Matrix\n",
    "\n",
    "\n",
    "$$ ||A||_{\\ell^p}:=\\left(\\sum_{i, j}|A_{ij}|^p\\right)^{1/p}$$\n",
    "\n",
    "\n"
   ]
  },
  {
   "cell_type": "code",
   "execution_count": 23,
   "id": "49051059",
   "metadata": {},
   "outputs": [
    {
     "data": {
      "text/plain": [
       "5.417055742083564"
      ]
     },
     "execution_count": 23,
     "metadata": {},
     "output_type": "execute_result"
    }
   ],
   "source": [
    "A.lp_norm(p=1.2) # Can be applied on Vectors"
   ]
  },
  {
   "cell_type": "markdown",
   "id": "1ee826f6",
   "metadata": {},
   "source": [
    "### $\\ell^\\infty$-norm of a Matrix\n",
    "\n",
    "$$||A||_{\\ell^\\infty}:=\\max_{i, j} |A_{i,j}|$$"
   ]
  },
  {
   "cell_type": "code",
   "execution_count": 24,
   "id": "952aa4af",
   "metadata": {},
   "outputs": [
    {
     "data": {
      "text/plain": [
       "2.0"
      ]
     },
     "execution_count": 24,
     "metadata": {},
     "output_type": "execute_result"
    }
   ],
   "source": [
    "A.max_norm() # Can be applied on Vectors"
   ]
  },
  {
   "cell_type": "markdown",
   "id": "eb45ae9e",
   "metadata": {},
   "source": [
    "### Maximum Row Sum\n",
    "\n",
    "Suppose $A=[A_{ij}]$ be a $m\\times n$ then ```max_row_sum``` is defined as: $$\\max \\{ \\sum_{j}|A_{ij}|~:~i=1, 2, \\dots, m\\}$$\n",
    "\n",
    "Similarly, the ```max_col_sum``` is defined as: $$\\max \\{ \\sum_{i}|A_{ij}|~:~j=1, 2, \\dots, n\\}$$"
   ]
  },
  {
   "cell_type": "code",
   "execution_count": 25,
   "id": "10e898ec",
   "metadata": {},
   "outputs": [
    {
     "data": {
      "text/plain": [
       "3.0"
      ]
     },
     "execution_count": 25,
     "metadata": {},
     "output_type": "execute_result"
    }
   ],
   "source": [
    "A.max_row_sum()"
   ]
  },
  {
   "cell_type": "code",
   "execution_count": 26,
   "id": "5a72c092",
   "metadata": {},
   "outputs": [
    {
     "data": {
      "text/plain": [
       "3.0"
      ]
     },
     "execution_count": 26,
     "metadata": {},
     "output_type": "execute_result"
    }
   ],
   "source": [
    "A.max_col_sum()"
   ]
  },
  {
   "cell_type": "code",
   "execution_count": 27,
   "id": "ebbdcbac",
   "metadata": {},
   "outputs": [
    {
     "data": {
      "text/plain": [
       "1.0"
      ]
     },
     "execution_count": 27,
     "metadata": {},
     "output_type": "execute_result"
    }
   ],
   "source": [
    "A.min_row_sum()"
   ]
  },
  {
   "cell_type": "code",
   "execution_count": 28,
   "id": "a45fedbf",
   "metadata": {},
   "outputs": [
    {
     "data": {
      "text/plain": [
       "2.0"
      ]
     },
     "execution_count": 28,
     "metadata": {},
     "output_type": "execute_result"
    }
   ],
   "source": [
    "A.min_col_sum()"
   ]
  },
  {
   "cell_type": "markdown",
   "id": "ab4cfbd4",
   "metadata": {},
   "source": [
    "### Singular Value\n",
    "\n",
    "The $\\textit{singular values}$, or s-numbers of a compact operator $T: \\mathcal{H} \\to \\mathcal{K}$ acting \n",
    "between Hilbert spaces $\\mathcal{H}$ and $\\mathcal{K}$, are the square roots of non-negative \n",
    "eigenvalues of the self-adjoint operator $T^*T$ (where $T^*$ denotes the adjoint of $T$)."
   ]
  },
  {
   "cell_type": "code",
   "execution_count": 29,
   "id": "fb961f86",
   "metadata": {},
   "outputs": [
    {
     "data": {
      "text/plain": [
       "2.536466958149324"
      ]
     },
     "execution_count": 29,
     "metadata": {},
     "output_type": "execute_result"
    }
   ],
   "source": [
    "A.largest_singular_value()"
   ]
  },
  {
   "cell_type": "code",
   "execution_count": 30,
   "id": "42c778a7",
   "metadata": {},
   "outputs": [
    {
     "data": {
      "text/plain": [
       "0.37480209629187133"
      ]
     },
     "execution_count": 30,
     "metadata": {},
     "output_type": "execute_result"
    }
   ],
   "source": [
    "A.smallest_singular_value()"
   ]
  },
  {
   "cell_type": "markdown",
   "id": "3ab6cbe0",
   "metadata": {},
   "source": [
    "### Nuclear Norm\n",
    "\n",
    "The nuclear norm of a matrix is defined to be the $\\textit{sum}$ of all singular values."
   ]
  },
  {
   "cell_type": "code",
   "execution_count": 31,
   "id": "3e632729",
   "metadata": {},
   "outputs": [
    {
     "data": {
      "text/plain": [
       "5.0150415608762255"
      ]
     },
     "execution_count": 31,
     "metadata": {},
     "output_type": "execute_result"
    }
   ],
   "source": [
    "A.nuclear_norm()"
   ]
  },
  {
   "cell_type": "markdown",
   "id": "92b338fc",
   "metadata": {},
   "source": [
    "### Get Matrix Basis"
   ]
  },
  {
   "cell_type": "code",
   "execution_count": 32,
   "id": "77d4e940",
   "metadata": {},
   "outputs": [
    {
     "data": {
      "text/latex": [
       "$\\displaystyle \\left[\\begin{matrix}0 & 0 & 0 & 0\\\\1.0 & 0 & 0 & 0\\\\0 & 0 & 0 & 0\\\\0 & 0 & 0 & 0\\end{matrix}\\right]$"
      ],
      "text/plain": [
       "Matrix([\n",
       "[  0, 0, 0, 0],\n",
       "[1.0, 0, 0, 0],\n",
       "[  0, 0, 0, 0],\n",
       "[  0, 0, 0, 0]])"
      ]
     },
     "execution_count": 32,
     "metadata": {},
     "output_type": "execute_result"
    }
   ],
   "source": [
    "base = get_matrix_basis(dim = 4)\n",
    "\n",
    "E11 = base['E11']\n",
    "E12 = base['E12']\n",
    "E21 = base['E21']\n",
    "E22 = base['E22']\n",
    "\n",
    "E33 = base['E33']\n",
    "E34 = base['E34']\n",
    "E43 = base['E43']\n",
    "E44 = base['E44']\n",
    "\n",
    "E21.prettify()"
   ]
  },
  {
   "cell_type": "code",
   "execution_count": 33,
   "id": "28e0537c",
   "metadata": {},
   "outputs": [
    {
     "data": {
      "text/latex": [
       "$\\displaystyle \\left[\\begin{matrix}1.0 + 1.0 i & 2.0 + 4.0 i & 0 & 0\\\\1.0 i & 8.2 & 0 & 0\\\\0 & 0 & 1.9 & 3.0 + 1.0 i\\\\0 & 0 & 3.0 & 1.0\\end{matrix}\\right]$"
      ],
      "text/plain": [
       "Matrix([\n",
       "[1.0 + 1.0*I, 2.0 + 4.0*I,   0,           0],\n",
       "[      1.0*I,         8.2,   0,           0],\n",
       "[          0,           0, 1.9, 3.0 + 1.0*I],\n",
       "[          0,           0, 3.0,         1.0]])"
      ]
     },
     "execution_count": 33,
     "metadata": {},
     "output_type": "execute_result"
    }
   ],
   "source": [
    "a, b, c, d, e, f, g, h = 1j + 1, 2 + 4j, 1j, 8.2, 1.9, 1j+3, 3, 1\n",
    "M = a * E11 + b * E12 + c * E21 + d * E22 + e * E33 + f * E34 + g * E43 + h * E44\n",
    "M.prettify()"
   ]
  },
  {
   "cell_type": "code",
   "execution_count": null,
   "id": "f554dc82",
   "metadata": {},
   "outputs": [],
   "source": []
  },
  {
   "cell_type": "markdown",
   "id": "bf8e1f96",
   "metadata": {},
   "source": [
    "## Vectors"
   ]
  },
  {
   "cell_type": "code",
   "execution_count": 34,
   "id": "859774e0",
   "metadata": {},
   "outputs": [
    {
     "data": {
      "text/latex": [
       "$\\displaystyle \\left[\\begin{matrix}1.0 i\\\\1.0\\end{matrix}\\right]$"
      ],
      "text/plain": [
       "Matrix([\n",
       "[1.0*I],\n",
       "[  1.0]])"
      ]
     },
     "execution_count": 34,
     "metadata": {},
     "output_type": "execute_result"
    }
   ],
   "source": [
    "v = Vector([1j, 1])\n",
    "v.prettify()"
   ]
  },
  {
   "cell_type": "markdown",
   "id": "b87b9d92",
   "metadata": {},
   "source": [
    "### Unit vector along a given direction"
   ]
  },
  {
   "cell_type": "code",
   "execution_count": 35,
   "id": "d599402b",
   "metadata": {},
   "outputs": [
    {
     "data": {
      "text/latex": [
       "$\\displaystyle \\left[\\begin{matrix}0.71 i\\\\0.71\\end{matrix}\\right]$"
      ],
      "text/plain": [
       "Matrix([\n",
       "[0.71*I],\n",
       "[  0.71]])"
      ]
     },
     "execution_count": 35,
     "metadata": {},
     "output_type": "execute_result"
    }
   ],
   "source": [
    "u = v.unit()\n",
    "u.prettify()"
   ]
  },
  {
   "cell_type": "markdown",
   "id": "4c4c2707",
   "metadata": {},
   "source": [
    "### Component of $v$ along $w$\n",
    "\n",
    "By definition, component of the vector $v$ along the vector $w$ is \n",
    "    $$\\frac{\\langle v, w\\rangle}{\\langle w, w\\rangle}w$$\n",
    "    "
   ]
  },
  {
   "cell_type": "code",
   "execution_count": 36,
   "id": "e50d415a",
   "metadata": {},
   "outputs": [],
   "source": [
    "v = Vector([1, 1])\n",
    "w = Vector([1, 0])"
   ]
  },
  {
   "cell_type": "code",
   "execution_count": 37,
   "id": "18d17b59",
   "metadata": {},
   "outputs": [
    {
     "data": {
      "text/latex": [
       "$\\displaystyle \\left[\\begin{matrix}1.0\\\\0\\end{matrix}\\right]$"
      ],
      "text/plain": [
       "Matrix([\n",
       "[1.0],\n",
       "[  0]])"
      ]
     },
     "execution_count": 37,
     "metadata": {},
     "output_type": "execute_result"
    }
   ],
   "source": [
    "c_v_w = v.component_along(w)\n",
    "c_v_w.prettify()"
   ]
  },
  {
   "cell_type": "markdown",
   "id": "ca6a79f0",
   "metadata": {},
   "source": [
    "### Tensor product (or Outer product)\n",
    "\n",
    "$$v \\otimes w:=vw^*$$\n"
   ]
  },
  {
   "cell_type": "code",
   "execution_count": 38,
   "id": "38daf435",
   "metadata": {},
   "outputs": [
    {
     "data": {
      "text/latex": [
       "$\\displaystyle \\left[\\begin{matrix}1.0 & 0\\\\1.0 & 0\\end{matrix}\\right]$"
      ],
      "text/plain": [
       "Matrix([\n",
       "[1.0, 0],\n",
       "[1.0, 0]])"
      ]
     },
     "execution_count": 38,
     "metadata": {},
     "output_type": "execute_result"
    }
   ],
   "source": [
    "tensor = v.tensor(w)\n",
    "tensor.prettify()"
   ]
  },
  {
   "cell_type": "markdown",
   "id": "8f88f122",
   "metadata": {},
   "source": [
    "### Projection Operator onto a Vector"
   ]
  },
  {
   "cell_type": "code",
   "execution_count": 39,
   "id": "9ea6b863",
   "metadata": {},
   "outputs": [
    {
     "data": {
      "text/latex": [
       "$\\displaystyle \\left[\\begin{matrix}0.5 & 0.5\\\\0.5 & 0.5\\end{matrix}\\right]$"
      ],
      "text/plain": [
       "Matrix([\n",
       "[0.5, 0.5],\n",
       "[0.5, 0.5]])"
      ]
     },
     "execution_count": 39,
     "metadata": {},
     "output_type": "execute_result"
    }
   ],
   "source": [
    "P = v.as_projection_operator()\n",
    "P.prettify()"
   ]
  },
  {
   "cell_type": "code",
   "execution_count": null,
   "id": "f848e205",
   "metadata": {},
   "outputs": [],
   "source": []
  },
  {
   "cell_type": "markdown",
   "id": "5573fef2",
   "metadata": {},
   "source": [
    "## Symbolic Matrix Manipulations"
   ]
  },
  {
   "cell_type": "code",
   "execution_count": 40,
   "id": "1eb52a33",
   "metadata": {},
   "outputs": [
    {
     "data": {
      "text/latex": [
       "$\\displaystyle \\left[\\begin{matrix}1 & 21 & \\gamma\\\\0 & \\theta & 1\\\\0 & 9 & 1\\end{matrix}\\right]$"
      ],
      "text/plain": [
       "Matrix([\n",
       "[1,    21, gamma],\n",
       "[0, theta,     1],\n",
       "[0,     9,     1]])"
      ]
     },
     "execution_count": 40,
     "metadata": {},
     "output_type": "execute_result"
    }
   ],
   "source": [
    "S = [[1, 21, gamma],\n",
    "     [0, theta, 1],\n",
    "     [0, 9, 1]]\n",
    "\n",
    "S = SymbolicMatrix(S)\n",
    "\n",
    "S.prettify()"
   ]
  },
  {
   "cell_type": "code",
   "execution_count": 41,
   "id": "c75bb6f7",
   "metadata": {},
   "outputs": [
    {
     "data": {
      "text/latex": [
       "$\\displaystyle \\gamma$"
      ],
      "text/plain": [
       "gamma"
      ]
     },
     "execution_count": 41,
     "metadata": {},
     "output_type": "execute_result"
    }
   ],
   "source": [
    "S[1, 3]"
   ]
  },
  {
   "cell_type": "code",
   "execution_count": 42,
   "id": "38c418c4",
   "metadata": {},
   "outputs": [
    {
     "data": {
      "text/latex": [
       "$\\displaystyle \\theta - 9$"
      ],
      "text/plain": [
       "theta - 9"
      ]
     },
     "execution_count": 42,
     "metadata": {},
     "output_type": "execute_result"
    }
   ],
   "source": [
    "S.det()"
   ]
  },
  {
   "cell_type": "code",
   "execution_count": 43,
   "id": "88cb9b45",
   "metadata": {},
   "outputs": [
    {
     "data": {
      "text/latex": [
       "$\\displaystyle \\left[\\begin{matrix}1 & \\frac{9 \\gamma - 21}{\\theta - 9} & \\frac{- \\gamma \\theta + 21}{\\theta - 9}\\\\0 & - \\frac{9}{81 - 9 \\theta} & \\frac{9}{81 - 9 \\theta}\\\\0 & \\frac{9}{9 - \\theta} & - \\frac{\\theta}{9 - \\theta}\\end{matrix}\\right]$"
      ],
      "text/plain": [
       "Matrix([\n",
       "[1, (9*gamma - 21)/(theta - 9), (-gamma*theta + 21)/(theta - 9)],\n",
       "[0,          -9/(81 - 9*theta),                9/(81 - 9*theta)],\n",
       "[0,              9/(9 - theta),              -theta/(9 - theta)]])"
      ]
     },
     "execution_count": 43,
     "metadata": {},
     "output_type": "execute_result"
    }
   ],
   "source": [
    "S.inverse().prettify()"
   ]
  },
  {
   "cell_type": "code",
   "execution_count": 44,
   "id": "5938a404",
   "metadata": {},
   "outputs": [
    {
     "data": {
      "text/latex": [
       "$\\displaystyle \\operatorname{PurePoly}{\\left( \\lambda^{3} + \\left(- \\theta - 2\\right) \\lambda^{2} + \\left(2 \\theta - 8\\right) \\lambda + 9 - \\theta, \\lambda, domain=\\mathbb{Z}\\left[\\theta\\right] \\right)}$"
      ],
      "text/plain": [
       "PurePoly(lambda**3 + (-theta - 2)*lambda**2 + (2*theta - 8)*lambda + 9 - theta, lambda, domain='ZZ[theta]')"
      ]
     },
     "execution_count": 44,
     "metadata": {},
     "output_type": "execute_result"
    }
   ],
   "source": [
    "S.charpoly()"
   ]
  },
  {
   "cell_type": "code",
   "execution_count": 45,
   "id": "e57eb769",
   "metadata": {},
   "outputs": [
    {
     "data": {
      "text/plain": [
       "{1: 1,\n",
       " theta/2 - sqrt(theta**2 - 2*theta + 37)/2 + 1/2: 1,\n",
       " theta/2 + sqrt(theta**2 - 2*theta + 37)/2 + 1/2: 1}"
      ]
     },
     "execution_count": 45,
     "metadata": {},
     "output_type": "execute_result"
    }
   ],
   "source": [
    "S.eigen_values()"
   ]
  },
  {
   "cell_type": "code",
   "execution_count": null,
   "id": "1b169dc3",
   "metadata": {},
   "outputs": [],
   "source": []
  },
  {
   "cell_type": "markdown",
   "id": "ac962966",
   "metadata": {},
   "source": [
    "## Special Forms\n",
    "\n",
    "### Random Matrices\n"
   ]
  },
  {
   "cell_type": "code",
   "execution_count": 46,
   "id": "e007c23a",
   "metadata": {},
   "outputs": [
    {
     "data": {
      "text/latex": [
       "$\\displaystyle \\left[\\begin{matrix}2.29 & 74.27 & 69.18\\\\89.67 & 13.68 & 4.17\\\\51.21 & 88.11 & 48.45\\end{matrix}\\right]$"
      ],
      "text/plain": [
       "Matrix([\n",
       "[ 2.29, 74.27, 69.18],\n",
       "[89.67, 13.68,  4.17],\n",
       "[51.21, 88.11, 48.45]])"
      ]
     },
     "execution_count": 46,
     "metadata": {},
     "output_type": "execute_result"
    }
   ],
   "source": [
    "R = RandomMatrix(order=3, lower=1, upper=100) # order can be a tuple or int\n",
    "R.prettify()"
   ]
  },
  {
   "cell_type": "markdown",
   "id": "9ddaea3e",
   "metadata": {},
   "source": [
    "### Random Vectors"
   ]
  },
  {
   "cell_type": "code",
   "execution_count": 47,
   "id": "caa97749",
   "metadata": {},
   "outputs": [
    {
     "data": {
      "text/latex": [
       "$\\displaystyle \\left[\\begin{matrix}1.54\\\\0.69\\\\-1.62\\end{matrix}\\right]$"
      ],
      "text/plain": [
       "Matrix([\n",
       "[ 1.54],\n",
       "[ 0.69],\n",
       "[-1.62]])"
      ]
     },
     "execution_count": 47,
     "metadata": {},
     "output_type": "execute_result"
    }
   ],
   "source": [
    "rv = RandomVector(dim=3, lower=-1, upper=1, desired_norm=2.34)\n",
    "rv.prettify()"
   ]
  },
  {
   "cell_type": "markdown",
   "id": "f9e93950",
   "metadata": {},
   "source": [
    "### Scalar Matrices"
   ]
  },
  {
   "cell_type": "code",
   "execution_count": 48,
   "id": "46b43c62",
   "metadata": {},
   "outputs": [
    {
     "data": {
      "text/latex": [
       "$\\displaystyle \\left[\\begin{matrix}3.0 & 0 & 0 & 0 & 0\\\\0 & 3.0 & 0 & 0 & 0\\\\0 & 0 & 3.0 & 0 & 0\\\\0 & 0 & 0 & 3.0 & 0\\\\0 & 0 & 0 & 0 & 3.0\\end{matrix}\\right]$"
      ],
      "text/plain": [
       "Matrix([\n",
       "[3.0,   0,   0,   0,   0],\n",
       "[  0, 3.0,   0,   0,   0],\n",
       "[  0,   0, 3.0,   0,   0],\n",
       "[  0,   0,   0, 3.0,   0],\n",
       "[  0,   0,   0,   0, 3.0]])"
      ]
     },
     "execution_count": 48,
     "metadata": {},
     "output_type": "execute_result"
    }
   ],
   "source": [
    "B = ScalarMatrix(order=5, scalar=3)\n",
    "B.prettify()"
   ]
  },
  {
   "cell_type": "code",
   "execution_count": null,
   "id": "9315763c",
   "metadata": {},
   "outputs": [],
   "source": []
  },
  {
   "cell_type": "markdown",
   "id": "c69d983d",
   "metadata": {},
   "source": [
    "### Elementary (Basis) Matrices"
   ]
  },
  {
   "cell_type": "code",
   "execution_count": 49,
   "id": "0dd4f6cd",
   "metadata": {},
   "outputs": [
    {
     "data": {
      "text/latex": [
       "$\\displaystyle \\left[\\begin{matrix}0 & 0 & 0 & 0\\\\0 & 0 & 0 & 0\\\\0 & 1.0 & 0 & 0\\\\0 & 0 & 0 & 0\\end{matrix}\\right]$"
      ],
      "text/plain": [
       "Matrix([\n",
       "[0,   0, 0, 0],\n",
       "[0,   0, 0, 0],\n",
       "[0, 1.0, 0, 0],\n",
       "[0,   0, 0, 0]])"
      ]
     },
     "execution_count": 49,
     "metadata": {},
     "output_type": "execute_result"
    }
   ],
   "source": [
    "E_32 = BasisMatrix(i=3, j=2, order=4) # order can be a tuple or int\n",
    "E_32.prettify()"
   ]
  },
  {
   "cell_type": "code",
   "execution_count": null,
   "id": "f8fffbd2",
   "metadata": {},
   "outputs": [],
   "source": []
  },
  {
   "cell_type": "markdown",
   "id": "84af00e8",
   "metadata": {},
   "source": [
    "### Basis Vectors"
   ]
  },
  {
   "cell_type": "code",
   "execution_count": 50,
   "id": "2a42ba44",
   "metadata": {},
   "outputs": [
    {
     "data": {
      "text/latex": [
       "$\\displaystyle \\left[\\begin{matrix}0\\\\1.0\\\\0\\end{matrix}\\right]$"
      ],
      "text/plain": [
       "Matrix([\n",
       "[  0],\n",
       "[1.0],\n",
       "[  0]])"
      ]
     },
     "execution_count": 50,
     "metadata": {},
     "output_type": "execute_result"
    }
   ],
   "source": [
    "e_2 = BasisVector(dim=3, i=2)\n",
    "e_2.prettify()"
   ]
  },
  {
   "cell_type": "code",
   "execution_count": null,
   "id": "82d24d90",
   "metadata": {},
   "outputs": [],
   "source": []
  },
  {
   "cell_type": "markdown",
   "id": "9c29292c",
   "metadata": {},
   "source": [
    "### Jordan Matrices"
   ]
  },
  {
   "cell_type": "code",
   "execution_count": 51,
   "id": "60bf8bea",
   "metadata": {},
   "outputs": [
    {
     "data": {
      "text/latex": [
       "$\\displaystyle \\left[\\begin{matrix}7.0 & 1.0 & 0 & 0 & 0\\\\0 & 7.0 & 1.0 & 0 & 0\\\\0 & 0 & 7.0 & 1.0 & 0\\\\0 & 0 & 0 & 7.0 & 1.0\\\\0 & 0 & 0 & 0 & 7.0\\end{matrix}\\right]$"
      ],
      "text/plain": [
       "Matrix([\n",
       "[7.0, 1.0,   0,   0,   0],\n",
       "[  0, 7.0, 1.0,   0,   0],\n",
       "[  0,   0, 7.0, 1.0,   0],\n",
       "[  0,   0,   0, 7.0, 1.0],\n",
       "[  0,   0,   0,   0, 7.0]])"
      ]
     },
     "execution_count": 51,
     "metadata": {},
     "output_type": "execute_result"
    }
   ],
   "source": [
    "J = JordanBlock(size=5, scalar=7)\n",
    "J.prettify()"
   ]
  },
  {
   "cell_type": "markdown",
   "id": "ff9bf949",
   "metadata": {},
   "source": [
    "### Symbolic Jordan Block"
   ]
  },
  {
   "cell_type": "code",
   "execution_count": 52,
   "id": "16b776c6",
   "metadata": {},
   "outputs": [
    {
     "data": {
      "text/latex": [
       "$\\displaystyle \\left[\\begin{matrix}\\lambda & 1 & 0 & 0 & 0\\\\0 & \\lambda & 1 & 0 & 0\\\\0 & 0 & \\lambda & 1 & 0\\\\0 & 0 & 0 & \\lambda & 1\\\\0 & 0 & 0 & 0 & \\lambda\\end{matrix}\\right]$"
      ],
      "text/plain": [
       "Matrix([\n",
       "[lambda,      1,      0,      0,      0],\n",
       "[     0, lambda,      1,      0,      0],\n",
       "[     0,      0, lambda,      1,      0],\n",
       "[     0,      0,      0, lambda,      1],\n",
       "[     0,      0,      0,      0, lambda]])"
      ]
     },
     "execution_count": 52,
     "metadata": {},
     "output_type": "execute_result"
    }
   ],
   "source": [
    "Js = SymbolicJordanBlock(size=5, symbol=lam)\n",
    "Js.prettify()"
   ]
  },
  {
   "cell_type": "code",
   "execution_count": 53,
   "id": "0671f942",
   "metadata": {},
   "outputs": [
    {
     "data": {
      "text/latex": [
       "$\\displaystyle \\left[\\begin{matrix}\\frac{1}{\\lambda} & - \\frac{1}{\\lambda^{2}} & \\frac{1}{\\lambda^{3}} & - \\frac{1}{\\lambda^{4}} & \\frac{1}{\\lambda^{5}}\\\\0 & \\frac{1}{\\lambda} & - \\frac{1}{\\lambda^{2}} & \\frac{1}{\\lambda^{3}} & - \\frac{1}{\\lambda^{4}}\\\\0 & 0 & \\frac{1}{\\lambda} & - \\frac{1}{\\lambda^{2}} & \\frac{1}{\\lambda^{3}}\\\\0 & 0 & 0 & \\frac{1}{\\lambda} & - \\frac{1}{\\lambda^{2}}\\\\0 & 0 & 0 & 0 & \\frac{1}{\\lambda}\\end{matrix}\\right]$"
      ],
      "text/plain": [
       "Matrix([\n",
       "[1/lambda, -1/lambda**2, lambda**(-3), -1/lambda**4, lambda**(-5)],\n",
       "[       0,     1/lambda, -1/lambda**2, lambda**(-3), -1/lambda**4],\n",
       "[       0,            0,     1/lambda, -1/lambda**2, lambda**(-3)],\n",
       "[       0,            0,            0,     1/lambda, -1/lambda**2],\n",
       "[       0,            0,            0,            0,     1/lambda]])"
      ]
     },
     "execution_count": 53,
     "metadata": {},
     "output_type": "execute_result"
    }
   ],
   "source": [
    "Js_inv = Js.inverse()\n",
    "Js_inv.prettify()"
   ]
  },
  {
   "cell_type": "code",
   "execution_count": 54,
   "id": "5e131eca",
   "metadata": {},
   "outputs": [
    {
     "data": {
      "text/latex": [
       "$\\displaystyle \\left[\\begin{matrix}\\alpha + 3.0 & \\alpha\\\\\\alpha & \\alpha + 3.0\\end{matrix}\\right]$"
      ],
      "text/plain": [
       "Matrix([\n",
       "[alpha + 3.0,       alpha],\n",
       "[      alpha, alpha + 3.0]])"
      ]
     },
     "execution_count": 54,
     "metadata": {},
     "output_type": "execute_result"
    }
   ],
   "source": [
    "S1 = SymbolicMatrix(default=alpha, order=2)\n",
    "SS = 3 + S1\n",
    "SS.prettify()"
   ]
  },
  {
   "cell_type": "code",
   "execution_count": null,
   "id": "ab476a55",
   "metadata": {},
   "outputs": [],
   "source": []
  },
  {
   "cell_type": "markdown",
   "id": "1c67067c",
   "metadata": {},
   "source": [
    "### Symbolic Vandermonde Matrix"
   ]
  },
  {
   "cell_type": "code",
   "execution_count": 55,
   "id": "31f1e5cf",
   "metadata": {},
   "outputs": [
    {
     "data": {
      "text/latex": [
       "$\\displaystyle \\left[\\begin{matrix}1 & \\alpha & \\alpha^{2} & \\alpha^{3} & \\alpha^{4}\\\\1 & \\alpha & \\alpha^{2} & \\alpha^{3} & \\alpha^{4}\\\\1 & \\alpha & \\alpha^{2} & \\alpha^{3} & \\alpha^{4}\\\\1 & \\alpha & \\alpha^{2} & \\alpha^{3} & \\alpha^{4}\\\\1 & \\alpha & \\alpha^{2} & \\alpha^{3} & \\alpha^{4}\\end{matrix}\\right]$"
      ],
      "text/plain": [
       "Matrix([\n",
       "[1, alpha, alpha**2, alpha**3, alpha**4],\n",
       "[1, alpha, alpha**2, alpha**3, alpha**4],\n",
       "[1, alpha, alpha**2, alpha**3, alpha**4],\n",
       "[1, alpha, alpha**2, alpha**3, alpha**4],\n",
       "[1, alpha, alpha**2, alpha**3, alpha**4]])"
      ]
     },
     "execution_count": 55,
     "metadata": {},
     "output_type": "execute_result"
    }
   ],
   "source": [
    "Vs = SymbolicVandermondeMatrix(symbol=alpha, size=5)\n",
    "Vs.prettify()"
   ]
  },
  {
   "cell_type": "markdown",
   "id": "9301487d",
   "metadata": {},
   "source": [
    "### Scalar Vandermonde Matrix"
   ]
  },
  {
   "cell_type": "code",
   "execution_count": 56,
   "id": "b3d2a024",
   "metadata": {},
   "outputs": [
    {
     "data": {
      "text/latex": [
       "$\\displaystyle \\left[\\begin{matrix}1.0 & 2.0 & 4.0\\\\1.0 & 2.0 & 4.0\\\\1.0 & 2.0 & 4.0\\end{matrix}\\right]$"
      ],
      "text/plain": [
       "Matrix([\n",
       "[1.0, 2.0, 4.0],\n",
       "[1.0, 2.0, 4.0],\n",
       "[1.0, 2.0, 4.0]])"
      ]
     },
     "execution_count": 56,
     "metadata": {},
     "output_type": "execute_result"
    }
   ],
   "source": [
    "V = VandermondeMatrix(scalar=2, size=3)\n",
    "V.prettify()"
   ]
  },
  {
   "cell_type": "code",
   "execution_count": null,
   "id": "39be68e6",
   "metadata": {},
   "outputs": [],
   "source": []
  },
  {
   "cell_type": "markdown",
   "id": "4eb7c9a9",
   "metadata": {},
   "source": [
    "### Hilbert Martix"
   ]
  },
  {
   "cell_type": "code",
   "execution_count": 57,
   "id": "2b01411c",
   "metadata": {},
   "outputs": [
    {
     "data": {
      "text/latex": [
       "$\\displaystyle \\left[\\begin{matrix}1.0 & 0.5\\\\0.5 & 0.33\\end{matrix}\\right]$"
      ],
      "text/plain": [
       "Matrix([\n",
       "[1.0,  0.5],\n",
       "[0.5, 0.33]])"
      ]
     },
     "execution_count": 57,
     "metadata": {},
     "output_type": "execute_result"
    }
   ],
   "source": [
    "H = HilbertMatrix(2)\n",
    "H.prettify()"
   ]
  },
  {
   "cell_type": "markdown",
   "id": "a5a9510c",
   "metadata": {},
   "source": [
    "### Density Matrix\n",
    "\n",
    "An $\\rho\\in M_n(\\mathbb{C})$ is called a 'density matrix' if $\\rho \\ge 0$ in the $C^*$-algebra $M_n(\\mathbb{C})$ and $\\text{tr}(\\rho)=1.$\n"
   ]
  },
  {
   "cell_type": "code",
   "execution_count": 58,
   "id": "b5e5c4d4",
   "metadata": {},
   "outputs": [
    {
     "data": {
      "text/latex": [
       "$\\displaystyle \\left[\\begin{matrix}0 & -0.25 & 0.12\\\\-0.25 & 0.65 & 0.08\\\\0.12 & 0.08 & 0.35\\end{matrix}\\right]$"
      ],
      "text/plain": [
       "Matrix([\n",
       "[    0, -0.25, 0.12],\n",
       "[-0.25,  0.65, 0.08],\n",
       "[ 0.12,  0.08, 0.35]])"
      ]
     },
     "execution_count": 58,
     "metadata": {},
     "output_type": "execute_result"
    }
   ],
   "source": [
    "rho = RandomDensityMatrix(size = 3) # Generates a real density matrix\n",
    "rho.prettify()"
   ]
  },
  {
   "cell_type": "markdown",
   "id": "684eb23e",
   "metadata": {},
   "source": [
    "### Pauli Matrices\n",
    "\n",
    "Consider the $\\mathbb{C}$ vector space $M_n(\\mathbb{C})$. Let \n",
    "    $$\\mathcal{S}_n:=\\{A\\in M_n(\\mathbb{C})~:~A=A^*\\}$$\n",
    "\n",
    "$$\n",
    "\\sigma_1 = \\begin{pmatrix}0 & 1 \\\\ 1 & 0 \\end{pmatrix};~\n",
    "\\sigma_2 = \\begin{pmatrix}0 & -i \\\\ i & 0 \\end{pmatrix};~\n",
    "\\sigma_3 = \\begin{pmatrix}1 & 0 \\\\ 0 & -1 \\end{pmatrix}~\n",
    "$$\n",
    "\n",
    "These are known as $\\textit{Pauli matrices}$ and $\\{I, \\sigma_1, \\sigma_2, \\sigma_3\\}$ forms a basis of $\\mathcal{S}_2$."
   ]
  },
  {
   "cell_type": "code",
   "execution_count": 59,
   "id": "2d772056",
   "metadata": {},
   "outputs": [
    {
     "data": {
      "text/latex": [
       "$\\displaystyle \\left[\\begin{matrix}1.0 & 0\\\\0 & -1.0\\end{matrix}\\right]$"
      ],
      "text/plain": [
       "Matrix([\n",
       "[1.0,    0],\n",
       "[  0, -1.0]])"
      ]
     },
     "execution_count": 59,
     "metadata": {},
     "output_type": "execute_result"
    }
   ],
   "source": [
    "PauliMatrix(j = 3).prettify()"
   ]
  },
  {
   "cell_type": "code",
   "execution_count": null,
   "id": "27642472",
   "metadata": {},
   "outputs": [],
   "source": []
  },
  {
   "cell_type": "markdown",
   "id": "15d11c9f",
   "metadata": {},
   "source": [
    "## System of Linear Equations\n",
    "\n",
    "$AX = b$\n",
    "\n",
    "Here $A$ is an $n\\times n$ matrix over $\\mathbb{C}$ and $X, b\\in \\mathbb{C}^n$\n",
    "\n"
   ]
  },
  {
   "cell_type": "code",
   "execution_count": 60,
   "id": "baad693f",
   "metadata": {},
   "outputs": [
    {
     "data": {
      "text/latex": [
       "$\\displaystyle \\left[\\begin{matrix}0.32\\\\-0.85\\\\-0.35\\\\-1.32\\end{matrix}\\right]$"
      ],
      "text/plain": [
       "Matrix([\n",
       "[ 0.32],\n",
       "[-0.85],\n",
       "[-0.35],\n",
       "[-1.32]])"
      ]
     },
     "execution_count": 60,
     "metadata": {},
     "output_type": "execute_result"
    }
   ],
   "source": [
    "A = RandomMatrix(order=(4, 4))\n",
    "b = RandomVector(dim=4)\n",
    "\n",
    "sys_eq = SystemOfLinearEquations(A, b) # System of equations\n",
    "\n",
    "X = sys_eq.solve() # Solution\n",
    "\n",
    "X.prettify()"
   ]
  },
  {
   "cell_type": "code",
   "execution_count": 61,
   "id": "6b8558f8",
   "metadata": {},
   "outputs": [
    {
     "data": {
      "text/plain": [
       "True"
      ]
     },
     "execution_count": 61,
     "metadata": {},
     "output_type": "execute_result"
    }
   ],
   "source": [
    "sys_eq.satisfied_by(X) # Check whether X satisfies the system!"
   ]
  },
  {
   "cell_type": "code",
   "execution_count": null,
   "id": "8bdb6004",
   "metadata": {},
   "outputs": [],
   "source": []
  }
 ],
 "metadata": {
  "kernelspec": {
   "display_name": "Python 3",
   "language": "python",
   "name": "python3"
  },
  "language_info": {
   "codemirror_mode": {
    "name": "ipython",
    "version": 3
   },
   "file_extension": ".py",
   "mimetype": "text/x-python",
   "name": "python",
   "nbconvert_exporter": "python",
   "pygments_lexer": "ipython3",
   "version": "3.6.9"
  }
 },
 "nbformat": 4,
 "nbformat_minor": 5
}
