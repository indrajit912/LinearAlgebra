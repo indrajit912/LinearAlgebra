{
 "cells": [
  {
   "cell_type": "code",
   "execution_count": 9,
   "id": "69235299",
   "metadata": {},
   "outputs": [],
   "source": [
    "from linear_algebra import *\n",
    "from old_linear_algebra import RandomMatrix as OldRandomMatrix"
   ]
  },
  {
   "cell_type": "markdown",
   "id": "bebb3d6e",
   "metadata": {},
   "source": [
    "## Time comparison"
   ]
  },
  {
   "cell_type": "code",
   "execution_count": 5,
   "id": "42528f02",
   "metadata": {},
   "outputs": [
    {
     "name": "stdout",
     "output_type": "stream",
     "text": [
      "649 ms ± 8.85 ms per loop (mean ± std. dev. of 7 runs, 1 loop each)\n"
     ]
    }
   ],
   "source": [
    "%timeit OldRandomMatrix(order=1000) # Calculating the time to be reqd to execute this cell"
   ]
  },
  {
   "cell_type": "markdown",
   "id": "fb02d507",
   "metadata": {},
   "source": [
    "Hence ```OldRandomMatrix``` takes on an average $649$ mili seconds to generate one $1000\\times 1000$ matrix!"
   ]
  },
  {
   "cell_type": "code",
   "execution_count": 11,
   "id": "0ac95a10",
   "metadata": {},
   "outputs": [
    {
     "name": "stdout",
     "output_type": "stream",
     "text": [
      "19 ms ± 1.68 ms per loop (mean ± std. dev. of 7 runs, 10 loops each)\n"
     ]
    }
   ],
   "source": [
    "%timeit RandomMatrix(order=1000)"
   ]
  },
  {
   "cell_type": "code",
   "execution_count": 8,
   "id": "c038c9c7",
   "metadata": {},
   "outputs": [
    {
     "name": "stdout",
     "output_type": "stream",
     "text": [
      "649 ms ± 172 ms per loop (mean ± std. dev. of 7 runs, 1 loop each)\n"
     ]
    }
   ],
   "source": [
    "%timeit HaarDistributedUnitary(size=1000)"
   ]
  },
  {
   "cell_type": "code",
   "execution_count": null,
   "id": "d6d504b6",
   "metadata": {},
   "outputs": [],
   "source": []
  }
 ],
 "metadata": {
  "kernelspec": {
   "display_name": "Python 3.6.9 64-bit",
   "language": "python",
   "name": "python3"
  },
  "language_info": {
   "codemirror_mode": {
    "name": "ipython",
    "version": 3
   },
   "file_extension": ".py",
   "mimetype": "text/x-python",
   "name": "python",
   "nbconvert_exporter": "python",
   "pygments_lexer": "ipython3",
   "version": "3.6.9"
  },
  "vscode": {
   "interpreter": {
    "hash": "31f2aee4e71d21fbe5cf8b01ff0e069b9275f58929596ceb00d14d90e3e16cd6"
   }
  }
 },
 "nbformat": 4,
 "nbformat_minor": 5
}
