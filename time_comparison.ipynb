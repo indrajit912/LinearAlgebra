{
 "cells": [
  {
   "cell_type": "code",
   "execution_count": 44,
   "id": "69235299",
   "metadata": {},
   "outputs": [],
   "source": [
    "from linear_algebra import *\n",
    "from old_linear_algebra import RandomMatrix as RM\n",
    "import time"
   ]
  },
  {
   "cell_type": "code",
   "execution_count": 81,
   "id": "53ffdc1e",
   "metadata": {},
   "outputs": [],
   "source": [
    "size = 10000 # Size of the matrix"
   ]
  },
  {
   "cell_type": "code",
   "execution_count": 82,
   "id": "a45cc491",
   "metadata": {},
   "outputs": [
    {
     "name": "stdout",
     "output_type": "stream",
     "text": [
      "\n",
      "Time reqd: 63.02211833000183 sec\n",
      "\n"
     ]
    }
   ],
   "source": [
    "# Time taken by the 'old' class\n",
    "s0 = time.time()\n",
    "RM(order = size)\n",
    "s1 = time.time()\n",
    "\n",
    "print(f\"\\nTime reqd: {s1-s0} sec\\n\")"
   ]
  },
  {
   "cell_type": "code",
   "execution_count": 83,
   "id": "15de15c1",
   "metadata": {},
   "outputs": [
    {
     "name": "stdout",
     "output_type": "stream",
     "text": [
      "\n",
      "Time reqd: 1.3188319206237793 sec\n",
      "\n"
     ]
    }
   ],
   "source": [
    "# Time taken by my 'new' class\n",
    "\n",
    "t0 = time.time()\n",
    "\n",
    "RandomMatrix(order = size)\n",
    "\n",
    "t1 = time.time()\n",
    "\n",
    "print(f\"\\nTime reqd: {t1-t0} sec\\n\")"
   ]
  },
  {
   "cell_type": "code",
   "execution_count": 84,
   "id": "78d2e3c9",
   "metadata": {},
   "outputs": [
    {
     "name": "stdout",
     "output_type": "stream",
     "text": [
      "\n",
      "Time reqd: 0.6542966365814209 sec\n",
      "\n"
     ]
    }
   ],
   "source": [
    "# Time take in NumPy\n",
    "\n",
    "t2 = time.time()\n",
    "\n",
    "np.random.random_sample((size, size))\n",
    "\n",
    "t3 = time.time()\n",
    "\n",
    "print(f\"\\nTime reqd: {t3-t2} sec\\n\")"
   ]
  },
  {
   "cell_type": "code",
   "execution_count": 69,
   "id": "a9691721",
   "metadata": {},
   "outputs": [
    {
     "name": "stdout",
     "output_type": "stream",
     "text": [
      "\n",
      "Time reqd: 0.0001819133758544922 sec\n",
      "\n"
     ]
    }
   ],
   "source": [
    "t4 = time.time()\n",
    "np.random.random_sample((size, size))\n",
    "t5 = time.time()\n",
    "\n",
    "print(f\"\\nTime reqd: {t5-t4} sec\\n\")"
   ]
  },
  {
   "cell_type": "code",
   "execution_count": null,
   "id": "2035fa75",
   "metadata": {},
   "outputs": [],
   "source": []
  }
 ],
 "metadata": {
  "kernelspec": {
   "display_name": "Python 3",
   "language": "python",
   "name": "python3"
  },
  "language_info": {
   "codemirror_mode": {
    "name": "ipython",
    "version": 3
   },
   "file_extension": ".py",
   "mimetype": "text/x-python",
   "name": "python",
   "nbconvert_exporter": "python",
   "pygments_lexer": "ipython3",
   "version": "3.6.9"
  }
 },
 "nbformat": 4,
 "nbformat_minor": 5
}
