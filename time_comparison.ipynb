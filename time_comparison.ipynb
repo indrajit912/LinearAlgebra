{
 "cells": [
  {
   "cell_type": "code",
   "execution_count": 1,
   "id": "69235299",
   "metadata": {},
   "outputs": [],
   "source": [
    "from linear_algebra import *\n",
    "from old_linear_algebra import RandomMatrix as RM\n",
    "import time"
   ]
  },
  {
   "cell_type": "code",
   "execution_count": 41,
   "id": "53ffdc1e",
   "metadata": {},
   "outputs": [],
   "source": [
    "size = 10000 # Size of the matrix"
   ]
  },
  {
   "cell_type": "code",
   "execution_count": 42,
   "id": "a45cc491",
   "metadata": {},
   "outputs": [
    {
     "name": "stdout",
     "output_type": "stream",
     "text": [
      "\n",
      "Time reqd: 64.49032640457153 sec\n",
      "\n"
     ]
    }
   ],
   "source": [
    "# Time taken by the 'old' class\n",
    "s0 = time.time()\n",
    "RM(order = size)\n",
    "s1 = time.time()\n",
    "\n",
    "print(f\"\\nTime reqd: {s1-s0} sec\\n\")"
   ]
  },
  {
   "cell_type": "code",
   "execution_count": 43,
   "id": "15de15c1",
   "metadata": {},
   "outputs": [
    {
     "name": "stdout",
     "output_type": "stream",
     "text": [
      "\n",
      "Time reqd: 1.8541321754455566 sec\n",
      "\n"
     ]
    }
   ],
   "source": [
    "# Time taken by my 'new' class\n",
    "\n",
    "t0 = time.time()\n",
    "\n",
    "RandomMatrix(order = size)\n",
    "\n",
    "t1 = time.time()\n",
    "\n",
    "print(f\"\\nTime reqd: {t1-t0} sec\\n\")"
   ]
  },
  {
   "cell_type": "code",
   "execution_count": 44,
   "id": "78d2e3c9",
   "metadata": {},
   "outputs": [
    {
     "name": "stdout",
     "output_type": "stream",
     "text": [
      "\n",
      "Time reqd: 0.7419826984405518 sec\n",
      "\n"
     ]
    }
   ],
   "source": [
    "# Time take in NumPy\n",
    "\n",
    "t2 = time.time()\n",
    "\n",
    "np.random.random_sample((size, size))\n",
    "\n",
    "t3 = time.time()\n",
    "\n",
    "print(f\"\\nTime reqd: {t3-t2} sec\\n\")"
   ]
  },
  {
   "cell_type": "code",
   "execution_count": 45,
   "id": "a9691721",
   "metadata": {},
   "outputs": [
    {
     "name": "stdout",
     "output_type": "stream",
     "text": [
      "\n",
      "Time reqd: 0.8128559589385986 sec\n",
      "\n"
     ]
    }
   ],
   "source": [
    "t4 = time.time()\n",
    "np.random.random_sample((size, size))\n",
    "t5 = time.time()\n",
    "\n",
    "print(f\"\\nTime reqd: {t5-t4} sec\\n\")"
   ]
  },
  {
   "cell_type": "code",
   "execution_count": 2,
   "id": "31806a3a",
   "metadata": {},
   "outputs": [
    {
     "name": "stdout",
     "output_type": "stream",
     "text": [
      "\n",
      "Done! \n",
      "Generated 10 many 50x50 random unitary matrices.\n",
      "\n",
      "Time taken: 0.033416032791137695 sec\n",
      "\n"
     ]
    }
   ],
   "source": [
    "## Generating large set of Random unitary matrices\n",
    "\n",
    "sample_size = 10\n",
    "matrix_size = 50\n",
    "\n",
    "unitaries = []\n",
    "\n",
    "t1 = time.time()\n",
    "for _ in range(sample_size):\n",
    "    unitaries.append(HaarDistributedUnitary(size=matrix_size))\n",
    "\n",
    "t2 = time.time()\n",
    "\n",
    "print(f\"\"\"\n",
    "Done! \n",
    "Generated {sample_size} many {matrix_size}x{matrix_size} random unitary matrices.\n",
    "\n",
    "Time taken: {t2-t1} sec\n",
    "\"\"\")\n"
   ]
  },
  {
   "cell_type": "code",
   "execution_count": null,
   "id": "fb9a2ad4",
   "metadata": {},
   "outputs": [],
   "source": []
  }
 ],
 "metadata": {
  "kernelspec": {
   "display_name": "Python 3.6.9 64-bit",
   "language": "python",
   "name": "python3"
  },
  "language_info": {
   "codemirror_mode": {
    "name": "ipython",
    "version": 3
   },
   "file_extension": ".py",
   "mimetype": "text/x-python",
   "name": "python",
   "nbconvert_exporter": "python",
   "pygments_lexer": "ipython3",
   "version": "3.6.9"
  },
  "vscode": {
   "interpreter": {
    "hash": "31f2aee4e71d21fbe5cf8b01ff0e069b9275f58929596ceb00d14d90e3e16cd6"
   }
  }
 },
 "nbformat": 4,
 "nbformat_minor": 5
}
