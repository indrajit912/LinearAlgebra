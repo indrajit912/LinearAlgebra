{
 "cells": [
  {
   "cell_type": "markdown",
   "id": "65f60849",
   "metadata": {},
   "source": [
    "# Pauli \n",
    "\n",
    "Consider the $\\mathbb{C}$ vector space $M_n(\\mathbb{C})$. Let \n",
    "    $$\\mathcal{S}_n:=\\{A\\in M_n(\\mathbb{C})~:~A=A^*\\}$$\n",
    "    \n",
    "Then $\\mathcal{S}_n$ is a $\\mathbb{R}$ vector space. In particular it is easy to see that, \n",
    "        $$\\mathcal{S}_2=\\{\\begin{pmatrix}\\lambda & z \\\\ \\bar{z} & \\mu \\end{pmatrix}~:~\\lambda, \\mu \\in \\mathbb{R} , z \\in \\mathbb{C}\\}$$\n",
    "        \n",
    "\n",
    "Clearly, $\\dim_{\\mathbb{R}}\\mathcal{S}_2=4$.\n",
    "\n",
    "What could be a basis for $\\mathcal{S}_2$??\n",
    "\n",
    "Consider, \n",
    "\n",
    "$$\n",
    "\\sigma_1 = \\begin{pmatrix}0 & 1 \\\\ 1 & 0 \\end{pmatrix};~\n",
    "\\sigma_2 = \\begin{pmatrix}0 & -i \\\\ i & 0 \\end{pmatrix};~\n",
    "\\sigma_3 = \\begin{pmatrix}1 & 0 \\\\ 0 & -1 \\end{pmatrix}~\n",
    "$$\n",
    "\n",
    "These are known as $\\textit{Pauli matrices}$ and $\\{I, \\sigma_1, \\sigma_2, \\sigma_3\\}$ forms a basis of $\\mathcal{S}_2$.\n",
    "\n",
    "All three of the Pauli matrices can be compacted into a single expression:\n",
    "\n",
    "$$ \\sigma _{j}={\\begin{pmatrix}\\delta _{j3}&\\delta _{j1}-i\\,\\delta _{j2}\\\\\\delta _{j1}+i\\,\\delta _{j2}&-\\delta _{j3}\\end{pmatrix}}$$\n",
    "\n"
   ]
  },
  {
   "cell_type": "code",
   "execution_count": 1,
   "id": "783ddba7",
   "metadata": {},
   "outputs": [],
   "source": [
    "from linear_algebra import *"
   ]
  },
  {
   "cell_type": "code",
   "execution_count": 13,
   "id": "5c30d1e9",
   "metadata": {},
   "outputs": [
    {
     "data": {
      "text/latex": [
       "$\\displaystyle \\left[\\begin{matrix}0 & - 1.0 i\\\\1.0 i & 0\\end{matrix}\\right]$"
      ],
      "text/plain": [
       "Matrix([\n",
       "[    0, -1.0*I],\n",
       "[1.0*I,      0]])"
      ]
     },
     "execution_count": 13,
     "metadata": {},
     "output_type": "execute_result"
    }
   ],
   "source": [
    "A = PauliMatrix(2)\n",
    "A.prettify()"
   ]
  },
  {
   "cell_type": "code",
   "execution_count": 15,
   "id": "abff2885",
   "metadata": {},
   "outputs": [
    {
     "data": {
      "text/latex": [
       "$\\displaystyle \\left[\\begin{matrix}1.0 & 0\\\\0 & 1.0\\end{matrix}\\right]$"
      ],
      "text/plain": [
       "Matrix([\n",
       "[1.0,   0],\n",
       "[  0, 1.0]])"
      ]
     },
     "execution_count": 15,
     "metadata": {},
     "output_type": "execute_result"
    }
   ],
   "source": [
    "I = Identity(2)\n",
    "I.prettify()"
   ]
  },
  {
   "cell_type": "code",
   "execution_count": null,
   "id": "a5a9d4d5",
   "metadata": {},
   "outputs": [],
   "source": []
  },
  {
   "cell_type": "code",
   "execution_count": null,
   "id": "5603398c",
   "metadata": {},
   "outputs": [],
   "source": []
  },
  {
   "cell_type": "code",
   "execution_count": null,
   "id": "33b65ee5",
   "metadata": {},
   "outputs": [],
   "source": []
  }
 ],
 "metadata": {
  "kernelspec": {
   "display_name": "Python 3",
   "language": "python",
   "name": "python3"
  },
  "language_info": {
   "codemirror_mode": {
    "name": "ipython",
    "version": 3
   },
   "file_extension": ".py",
   "mimetype": "text/x-python",
   "name": "python",
   "nbconvert_exporter": "python",
   "pygments_lexer": "ipython3",
   "version": "3.6.9"
  }
 },
 "nbformat": 4,
 "nbformat_minor": 5
}
