{
 "cells": [
  {
   "cell_type": "code",
   "execution_count": 1,
   "id": "850d6bb6",
   "metadata": {},
   "outputs": [],
   "source": [
    "from linear_algebra import *"
   ]
  },
  {
   "cell_type": "code",
   "execution_count": 2,
   "id": "33058dbb",
   "metadata": {},
   "outputs": [],
   "source": [
    "e1 = BasisVector(dim=2, i = 1)\n",
    "e2 = BasisVector(dim= 2, i=2)\n",
    "u = Vector([1, 1]).unit()\n",
    "\n",
    "V = u.tensor(e1)\n",
    "W = e2.tensor(e1)\n",
    "\n",
    "U = V + W"
   ]
  },
  {
   "cell_type": "code",
   "execution_count": 3,
   "id": "8cadd078",
   "metadata": {},
   "outputs": [],
   "source": [
    "P = e1.as_projection_operator()\n",
    "Q = u.as_projection_operator()"
   ]
  },
  {
   "cell_type": "code",
   "execution_count": 4,
   "id": "634b7f8a",
   "metadata": {},
   "outputs": [
    {
     "data": {
      "text/latex": [
       "$\\displaystyle \\left[\\begin{matrix}0.5 & 0\\\\0.5 & 0\\end{matrix}\\right]$"
      ],
      "text/plain": [
       "Matrix([\n",
       "[0.5, 0],\n",
       "[0.5, 0]])"
      ]
     },
     "execution_count": 4,
     "metadata": {},
     "output_type": "execute_result"
    }
   ],
   "source": [
    "R = Q *  P\n",
    "R.prettify()"
   ]
  },
  {
   "cell_type": "code",
   "execution_count": 5,
   "id": "aae49963",
   "metadata": {},
   "outputs": [
    {
     "data": {
      "text/plain": [
       "True"
      ]
     },
     "execution_count": 5,
     "metadata": {},
     "output_type": "execute_result"
    }
   ],
   "source": [
    "e2.is_orthogonal(e1)"
   ]
  },
  {
   "cell_type": "code",
   "execution_count": null,
   "id": "0a804718",
   "metadata": {},
   "outputs": [],
   "source": []
  }
 ],
 "metadata": {
  "kernelspec": {
   "display_name": "Python 3",
   "language": "python",
   "name": "python3"
  },
  "language_info": {
   "codemirror_mode": {
    "name": "ipython",
    "version": 3
   },
   "file_extension": ".py",
   "mimetype": "text/x-python",
   "name": "python",
   "nbconvert_exporter": "python",
   "pygments_lexer": "ipython3",
   "version": "3.6.9"
  }
 },
 "nbformat": 4,
 "nbformat_minor": 5
}
