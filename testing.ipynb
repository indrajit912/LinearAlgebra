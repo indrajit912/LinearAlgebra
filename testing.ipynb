{
 "cells": [
  {
   "cell_type": "code",
   "execution_count": 37,
   "id": "850d6bb6",
   "metadata": {},
   "outputs": [],
   "source": [
    "from linear_algebra import *"
   ]
  },
  {
   "cell_type": "code",
   "execution_count": 38,
   "id": "6bd55893",
   "metadata": {},
   "outputs": [
    {
     "data": {
      "text/latex": [
       "$\\displaystyle \\left[\\begin{matrix}1.7 & 0.2\\\\0.2 & 1.0\\end{matrix}\\right]$"
      ],
      "text/plain": [
       "Matrix([\n",
       "[1.7, 0.2],\n",
       "[0.2, 1.0]])"
      ]
     },
     "execution_count": 38,
     "metadata": {},
     "output_type": "execute_result"
    }
   ],
   "source": [
    "mat = Matrix([[1.7, 0.2], [0.2, 1]])\n",
    "mat.prettify()"
   ]
  },
  {
   "cell_type": "code",
   "execution_count": 40,
   "id": "fda56fec",
   "metadata": {},
   "outputs": [
    {
     "data": {
      "text/plain": [
       "True"
      ]
     },
     "execution_count": 40,
     "metadata": {},
     "output_type": "execute_result"
    }
   ],
   "source": [
    "mat.is_normal()"
   ]
  },
  {
   "cell_type": "code",
   "execution_count": 45,
   "id": "0d210367",
   "metadata": {},
   "outputs": [
    {
     "data": {
      "text/latex": [
       "$\\displaystyle \\left[\\begin{matrix}-0.58 - 0.08 i & -0.1 + 0.22 i & -0.6 - 0.31 i & 0.04 + 0.29 i & 0.08 - 0.25 i\\\\-0.16 - 0.45 i & -0.11 + 0.24 i & 0.26 + 0.52 i & -0.19 - 0.02 i & -0.1 - 0.56 i\\\\-0.26 + 0.09 i & 0.56 + 0.13 i & -0.03 - 0.05 i & -0.46 - 0.53 i & 0.32\\\\0.11 - 0.44 i & 0.71 - 0.19 i & -0.06 - 0.01 i & 0.43 + 0.23 i & 0.04 - 0.09 i\\\\0.06 + 0.38 i & -0.03 + 0.04 i & 0.35 - 0.29 i & 0.38 - 0.09 i & 0.37 - 0.59 i\\end{matrix}\\right]$"
      ],
      "text/plain": [
       "Matrix([\n",
       "[-0.58 - 0.08*I,  -0.1 + 0.22*I,  -0.6 - 0.31*I,  0.04 + 0.29*I, 0.08 - 0.25*I],\n",
       "[-0.16 - 0.45*I, -0.11 + 0.24*I,  0.26 + 0.52*I, -0.19 - 0.02*I, -0.1 - 0.56*I],\n",
       "[-0.26 + 0.09*I,  0.56 + 0.13*I, -0.03 - 0.05*I, -0.46 - 0.53*I,          0.32],\n",
       "[ 0.11 - 0.44*I,  0.71 - 0.19*I, -0.06 - 0.01*I,  0.43 + 0.23*I, 0.04 - 0.09*I],\n",
       "[ 0.06 + 0.38*I, -0.03 + 0.04*I,  0.35 - 0.29*I,  0.38 - 0.09*I, 0.37 - 0.59*I]])"
      ]
     },
     "execution_count": 45,
     "metadata": {},
     "output_type": "execute_result"
    }
   ],
   "source": [
    "U = HaarDistributedUnitary(size=5)\n",
    "U.prettify()"
   ]
  },
  {
   "cell_type": "code",
   "execution_count": null,
   "id": "53c3f85e",
   "metadata": {},
   "outputs": [],
   "source": []
  }
 ],
 "metadata": {
  "kernelspec": {
   "display_name": "Python 3.6.9 64-bit",
   "language": "python",
   "name": "python3"
  },
  "language_info": {
   "codemirror_mode": {
    "name": "ipython",
    "version": 3
   },
   "file_extension": ".py",
   "mimetype": "text/x-python",
   "name": "python",
   "nbconvert_exporter": "python",
   "pygments_lexer": "ipython3",
   "version": "3.6.9"
  },
  "vscode": {
   "interpreter": {
    "hash": "31f2aee4e71d21fbe5cf8b01ff0e069b9275f58929596ceb00d14d90e3e16cd6"
   }
  }
 },
 "nbformat": 4,
 "nbformat_minor": 5
}
