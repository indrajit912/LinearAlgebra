{
 "cells": [
  {
   "cell_type": "code",
   "execution_count": 68,
   "id": "850d6bb6",
   "metadata": {},
   "outputs": [],
   "source": [
    "from linear_algebra import *"
   ]
  },
  {
   "cell_type": "code",
   "execution_count": 75,
   "id": "e83f4ee1",
   "metadata": {},
   "outputs": [],
   "source": [
    "A = Matrix([\n",
    "    [1, 0.2],\n",
    "    [0.1, 0.3]\n",
    "])"
   ]
  },
  {
   "cell_type": "code",
   "execution_count": 112,
   "id": "0f845e19",
   "metadata": {},
   "outputs": [
    {
     "data": {
      "text/latex": [
       "$\\displaystyle \\left[\\begin{matrix}0.66\\\\-0.99\\end{matrix}\\right]$"
      ],
      "text/plain": [
       "Matrix([\n",
       "[ 0.66],\n",
       "[-0.99]])"
      ]
     },
     "execution_count": 112,
     "metadata": {},
     "output_type": "execute_result"
    }
   ],
   "source": [
    "v = RandomVector(dim=2)\n",
    "v.prettify()"
   ]
  },
  {
   "cell_type": "code",
   "execution_count": null,
   "id": "0fd8d3b9",
   "metadata": {},
   "outputs": [],
   "source": []
  }
 ],
 "metadata": {
  "kernelspec": {
   "display_name": "Python 3.6.9 64-bit",
   "language": "python",
   "name": "python3"
  },
  "language_info": {
   "codemirror_mode": {
    "name": "ipython",
    "version": 3
   },
   "file_extension": ".py",
   "mimetype": "text/x-python",
   "name": "python",
   "nbconvert_exporter": "python",
   "pygments_lexer": "ipython3",
   "version": "3.6.9"
  },
  "vscode": {
   "interpreter": {
    "hash": "31f2aee4e71d21fbe5cf8b01ff0e069b9275f58929596ceb00d14d90e3e16cd6"
   }
  }
 },
 "nbformat": 4,
 "nbformat_minor": 5
}
