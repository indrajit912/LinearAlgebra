{
 "cells": [
  {
   "cell_type": "code",
   "execution_count": 1,
   "id": "850d6bb6",
   "metadata": {},
   "outputs": [],
   "source": [
    "from linear_algebra import *"
   ]
  },
  {
   "cell_type": "code",
   "execution_count": 11,
   "id": "2d3ada03",
   "metadata": {},
   "outputs": [],
   "source": [
    "a = 3.4 + 1j\n",
    "arr = np.array([\n",
    "    [0.2, 1.3],\n",
    "    [0, 0.6]\n",
    "])\n",
    "\n",
    "A = Matrix([\n",
    "    [1, 0, 0.8],\n",
    "    [1j, 1, 2.5],\n",
    "    [0, 0, 1]\n",
    "])"
   ]
  },
  {
   "cell_type": "code",
   "execution_count": 12,
   "id": "16d7bd0a",
   "metadata": {},
   "outputs": [],
   "source": [
    "blocks = [a, arr, A]"
   ]
  },
  {
   "cell_type": "code",
   "execution_count": 13,
   "id": "bdf8e162",
   "metadata": {},
   "outputs": [
    {
     "data": {
      "text/latex": [
       "$\\displaystyle \\left[\\begin{matrix}3.4 + 1.0 i & 0 & 0 & 0 & 0 & 0\\\\0 & 0.2 & 1.3 & 0 & 0 & 0\\\\0 & 0 & 0.6 & 0 & 0 & 0\\\\0 & 0 & 0 & 1.0 & 0 & 0.8\\\\0 & 0 & 0 & 1.0 i & 1.0 & 2.5\\\\0 & 0 & 0 & 0 & 0 & 1.0\\end{matrix}\\right]$"
      ],
      "text/plain": [
       "Matrix([\n",
       "[3.4 + 1.0*I,   0,   0,     0,   0,   0],\n",
       "[          0, 0.2, 1.3,     0,   0,   0],\n",
       "[          0,   0, 0.6,     0,   0,   0],\n",
       "[          0,   0,   0,   1.0,   0, 0.8],\n",
       "[          0,   0,   0, 1.0*I, 1.0, 2.5],\n",
       "[          0,   0,   0,     0,   0, 1.0]])"
      ]
     },
     "execution_count": 13,
     "metadata": {},
     "output_type": "execute_result"
    }
   ],
   "source": [
    "B = BlockDiagonalMatrix(blocks)\n",
    "B.prettify()"
   ]
  },
  {
   "cell_type": "code",
   "execution_count": null,
   "id": "8131e4eb",
   "metadata": {},
   "outputs": [],
   "source": []
  }
 ],
 "metadata": {
  "kernelspec": {
   "display_name": "Python 3",
   "language": "python",
   "name": "python3"
  },
  "language_info": {
   "codemirror_mode": {
    "name": "ipython",
    "version": 3
   },
   "file_extension": ".py",
   "mimetype": "text/x-python",
   "name": "python",
   "nbconvert_exporter": "python",
   "pygments_lexer": "ipython3",
   "version": "3.6.9"
  },
  "vscode": {
   "interpreter": {
    "hash": "31f2aee4e71d21fbe5cf8b01ff0e069b9275f58929596ceb00d14d90e3e16cd6"
   }
  }
 },
 "nbformat": 4,
 "nbformat_minor": 5
}
