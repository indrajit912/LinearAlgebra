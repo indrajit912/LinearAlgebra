{
 "cells": [
  {
   "cell_type": "code",
   "execution_count": 7,
   "id": "850d6bb6",
   "metadata": {},
   "outputs": [],
   "source": [
    "from linear_algebra import *\n",
    "from datetime import datetime"
   ]
  },
  {
   "cell_type": "code",
   "execution_count": 40,
   "id": "65b5e8e0",
   "metadata": {},
   "outputs": [
    {
     "data": {
      "text/latex": [
       "$\\displaystyle \\left[\\begin{matrix}0.35 + 0.32 i & -0.03 + 0.35 i & -0.46 + 0.14 i & 0.1 - 0.52 i & 0.12 + 0.35 i\\\\-0.11 - 0.24 i & -0.62 - 0.51 i & -0.09 + 0.11 i & -0.03 - 0.14 i & 0.41 + 0.28 i\\\\0.61 + 0.23 i & -0.1 - 0.24 i & 0.03 - 0.47 i & 0.03 + 0.01 i & 0.29 - 0.45 i\\\\- 0.3 i & -0.05 + 0.18 i & 0.51 - 0.48 i & -0.14 - 0.57 i & -0.13 + 0.19 i\\\\0.43 + 0.09 i & -0.33 + 0.17 i & 0.19 & -0.32 + 0.5 i & -0.24 + 0.47 i\\end{matrix}\\right]$"
      ],
      "text/plain": [
       "Matrix([\n",
       "[ 0.35 + 0.32*I, -0.03 + 0.35*I, -0.46 + 0.14*I,   0.1 - 0.52*I,  0.12 + 0.35*I],\n",
       "[-0.11 - 0.24*I, -0.62 - 0.51*I, -0.09 + 0.11*I, -0.03 - 0.14*I,  0.41 + 0.28*I],\n",
       "[ 0.61 + 0.23*I,  -0.1 - 0.24*I,  0.03 - 0.47*I,  0.03 + 0.01*I,  0.29 - 0.45*I],\n",
       "[        -0.3*I, -0.05 + 0.18*I,  0.51 - 0.48*I, -0.14 - 0.57*I, -0.13 + 0.19*I],\n",
       "[ 0.43 + 0.09*I, -0.33 + 0.17*I,           0.19,  -0.32 + 0.5*I, -0.24 + 0.47*I]])"
      ]
     },
     "execution_count": 40,
     "metadata": {},
     "output_type": "execute_result"
    }
   ],
   "source": [
    "H = HaarDistributedUnitary(size=5)\n",
    "H.prettify()"
   ]
  },
  {
   "cell_type": "code",
   "execution_count": 41,
   "id": "76445063",
   "metadata": {},
   "outputs": [
    {
     "data": {
      "text/latex": [
       "$\\displaystyle \\left[\\begin{matrix}0.35 + 0.32 i & -0.03 + 0.35 i\\\\-0.11 - 0.24 i & -0.62 - 0.51 i\\end{matrix}\\right]$"
      ],
      "text/plain": [
       "Matrix([\n",
       "[ 0.35 + 0.32*I, -0.03 + 0.35*I],\n",
       "[-0.11 - 0.24*I, -0.62 - 0.51*I]])"
      ]
     },
     "execution_count": 41,
     "metadata": {},
     "output_type": "execute_result"
    }
   ],
   "source": [
    "M = 2\n",
    "arr = H.matrix\n",
    "block = arr[0:M, 0:M] \n",
    "new = Matrix(block)\n",
    "new.prettify()"
   ]
  }
 ],
 "metadata": {
  "kernelspec": {
   "display_name": "Python 3.6.9 64-bit",
   "language": "python",
   "name": "python3"
  },
  "language_info": {
   "codemirror_mode": {
    "name": "ipython",
    "version": 3
   },
   "file_extension": ".py",
   "mimetype": "text/x-python",
   "name": "python",
   "nbconvert_exporter": "python",
   "pygments_lexer": "ipython3",
   "version": "3.6.9"
  },
  "vscode": {
   "interpreter": {
    "hash": "31f2aee4e71d21fbe5cf8b01ff0e069b9275f58929596ceb00d14d90e3e16cd6"
   }
  }
 },
 "nbformat": 4,
 "nbformat_minor": 5
}
