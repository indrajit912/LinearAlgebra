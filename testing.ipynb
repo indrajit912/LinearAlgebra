{
 "cells": [
  {
   "cell_type": "code",
   "execution_count": 2,
   "id": "850d6bb6",
   "metadata": {},
   "outputs": [],
   "source": [
    "from linear_algebra import *\n",
    "import time"
   ]
  },
  {
   "cell_type": "code",
   "execution_count": 55,
   "id": "f6a3128d",
   "metadata": {},
   "outputs": [
    {
     "name": "stdout",
     "output_type": "stream",
     "text": [
      "\n",
      "Done! \n",
      "Generated 10 many 50x50 random unitary matrices.\n",
      "\n",
      "Time taken: 0.015707969665527344 sec\n",
      "\n"
     ]
    }
   ],
   "source": [
    "## Generating large set of Random unitary matrices\n",
    "\n",
    "sample_size = 10\n",
    "matrix_size = 50\n",
    "\n",
    "unitaries = []\n",
    "\n",
    "t1 = time.time()\n",
    "for _ in range(sample_size):\n",
    "    unitaries.append(HaarDistributedUnitary(size=matrix_size))\n",
    "\n",
    "t2 = time.time()\n",
    "\n",
    "print(f\"\"\"\n",
    "Done! \n",
    "Generated {sample_size} many {matrix_size}x{matrix_size} random unitary matrices.\n",
    "\n",
    "Time taken: {t2-t1} sec\n",
    "\"\"\")\n"
   ]
  },
  {
   "cell_type": "code",
   "execution_count": 12,
   "id": "2d3ada03",
   "metadata": {},
   "outputs": [],
   "source": [
    "A = RandomOrthogonalMatrix(size=5)"
   ]
  },
  {
   "cell_type": "code",
   "execution_count": null,
   "id": "16d7bd0a",
   "metadata": {},
   "outputs": [],
   "source": []
  }
 ],
 "metadata": {
  "kernelspec": {
   "display_name": "Python 3",
   "language": "python",
   "name": "python3"
  },
  "language_info": {
   "codemirror_mode": {
    "name": "ipython",
    "version": 3
   },
   "file_extension": ".py",
   "mimetype": "text/x-python",
   "name": "python",
   "nbconvert_exporter": "python",
   "pygments_lexer": "ipython3",
   "version": "3.6.9"
  },
  "vscode": {
   "interpreter": {
    "hash": "31f2aee4e71d21fbe5cf8b01ff0e069b9275f58929596ceb00d14d90e3e16cd6"
   }
  }
 },
 "nbformat": 4,
 "nbformat_minor": 5
}
