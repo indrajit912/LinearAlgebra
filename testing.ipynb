{
 "cells": [
  {
   "cell_type": "code",
   "execution_count": 1,
   "id": "850d6bb6",
   "metadata": {},
   "outputs": [],
   "source": [
    "from linear_algebra import *"
   ]
  },
  {
   "cell_type": "code",
   "execution_count": 3,
   "id": "65b5e8e0",
   "metadata": {},
   "outputs": [
    {
     "data": {
      "text/latex": [
       "$\\displaystyle \\left[\\begin{matrix}-0.25 + 0.41 i & 0.05 - 0.18 i & -0.14 - 0.85 i\\\\0.81 - 0.02 i & -0.2 + 0.23 i & 0.35 - 0.36 i\\\\0.34 - 0.09 i & 0.55 - 0.76 i & 0.07 + 0.04 i\\end{matrix}\\right]$"
      ],
      "text/plain": [
       "Matrix([\n",
       "[-0.25 + 0.41*I, 0.05 - 0.18*I, -0.14 - 0.85*I],\n",
       "[ 0.81 - 0.02*I, -0.2 + 0.23*I,  0.35 - 0.36*I],\n",
       "[ 0.34 - 0.09*I, 0.55 - 0.76*I,  0.07 + 0.04*I]])"
      ]
     },
     "execution_count": 3,
     "metadata": {},
     "output_type": "execute_result"
    }
   ],
   "source": [
    "H = HaarDistributedUnitary(size=3)\n",
    "H.prettify()"
   ]
  },
  {
   "cell_type": "code",
   "execution_count": 4,
   "id": "f5145106",
   "metadata": {},
   "outputs": [
    {
     "data": {
      "text/plain": [
       "'\\\\begin{pmatrix}\\n    -0.25+0.41i   & 0.05-0.18i   & -0.14-0.85i  \\\\\\\\\\n    0.81-0.02i   & -0.2+0.23i   & 0.35-0.36i  \\\\\\\\\\n    0.34-0.09i   & 0.55-0.76i   & 0.07+0.04i  \\\\\\\\\\n\\\\end{pmatrix}\\n'"
      ]
     },
     "execution_count": 4,
     "metadata": {},
     "output_type": "execute_result"
    }
   ],
   "source": [
    "H.get_tex()"
   ]
  },
  {
   "cell_type": "code",
   "execution_count": null,
   "id": "623f708a",
   "metadata": {},
   "outputs": [],
   "source": []
  }
 ],
 "metadata": {
  "kernelspec": {
   "display_name": "Python 3.6.9 64-bit",
   "language": "python",
   "name": "python3"
  },
  "language_info": {
   "codemirror_mode": {
    "name": "ipython",
    "version": 3
   },
   "file_extension": ".py",
   "mimetype": "text/x-python",
   "name": "python",
   "nbconvert_exporter": "python",
   "pygments_lexer": "ipython3",
   "version": "3.6.9"
  },
  "vscode": {
   "interpreter": {
    "hash": "31f2aee4e71d21fbe5cf8b01ff0e069b9275f58929596ceb00d14d90e3e16cd6"
   }
  }
 },
 "nbformat": 4,
 "nbformat_minor": 5
}
