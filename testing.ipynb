{
 "cells": [
  {
   "cell_type": "code",
   "execution_count": 46,
   "id": "850d6bb6",
   "metadata": {},
   "outputs": [],
   "source": [
    "from linear_algebra import *"
   ]
  },
  {
   "cell_type": "code",
   "execution_count": 77,
   "id": "85a0aa1b",
   "metadata": {},
   "outputs": [],
   "source": [
    "A = SymbolicMatrix([\n",
    "    [lam, 0, 1/2],\n",
    "    [0, lam, 0],\n",
    "    [lam, 1, lam]\n",
    "])"
   ]
  },
  {
   "cell_type": "code",
   "execution_count": 78,
   "id": "3bd3fb12",
   "metadata": {},
   "outputs": [
    {
     "data": {
      "text/latex": [
       "$\\displaystyle \\left[\\begin{matrix}\\lambda & 0 & 0.5\\\\0 & \\lambda & 0\\\\\\lambda & 1 & \\lambda\\end{matrix}\\right]$"
      ],
      "text/plain": [
       "Matrix([\n",
       "[lambda,      0,    0.5],\n",
       "[     0, lambda,      0],\n",
       "[lambda,      1, lambda]])"
      ]
     },
     "execution_count": 78,
     "metadata": {},
     "output_type": "execute_result"
    }
   ],
   "source": [
    "A.prettify()"
   ]
  },
  {
   "cell_type": "code",
   "execution_count": 80,
   "id": "140a6c1b",
   "metadata": {},
   "outputs": [
    {
     "data": {
      "text/latex": [
       "$\\displaystyle \\lambda^{3} - 0.5 \\lambda^{2}$"
      ],
      "text/plain": [
       "lambda**3 - 0.5*lambda**2"
      ]
     },
     "execution_count": 80,
     "metadata": {},
     "output_type": "execute_result"
    }
   ],
   "source": [
    "A.det()"
   ]
  },
  {
   "cell_type": "code",
   "execution_count": null,
   "id": "c728dd90",
   "metadata": {},
   "outputs": [],
   "source": []
  }
 ],
 "metadata": {
  "kernelspec": {
   "display_name": "Python 3",
   "language": "python",
   "name": "python3"
  },
  "language_info": {
   "codemirror_mode": {
    "name": "ipython",
    "version": 3
   },
   "file_extension": ".py",
   "mimetype": "text/x-python",
   "name": "python",
   "nbconvert_exporter": "python",
   "pygments_lexer": "ipython3",
   "version": "3.6.9"
  }
 },
 "nbformat": 4,
 "nbformat_minor": 5
}
