{
 "cells": [
  {
   "cell_type": "code",
   "execution_count": 1,
   "id": "850d6bb6",
   "metadata": {},
   "outputs": [],
   "source": [
    "from linear_algebra import *"
   ]
  },
  {
   "cell_type": "code",
   "execution_count": 16,
   "id": "85a0aa1b",
   "metadata": {},
   "outputs": [
    {
     "data": {
      "text/latex": [
       "$\\displaystyle \\left[\\begin{matrix}5.0 & 1.0 & 0\\\\0 & 5.0 & 1.0\\\\0 & 0 & 5.0\\end{matrix}\\right]$"
      ],
      "text/plain": [
       "Matrix([\n",
       "[5.0, 1.0,   0],\n",
       "[  0, 5.0, 1.0],\n",
       "[  0,   0, 5.0]])"
      ]
     },
     "execution_count": 16,
     "metadata": {},
     "output_type": "execute_result"
    }
   ],
   "source": [
    "A = JordanBlock(size=3, scalar=5)\n",
    "A.prettify()"
   ]
  },
  {
   "cell_type": "code",
   "execution_count": 32,
   "id": "3bd3fb12",
   "metadata": {},
   "outputs": [
    {
     "data": {
      "text/latex": [
       "$\\displaystyle \\left[\\begin{matrix}\\alpha^{2} & \\alpha & 0\\\\\\alpha & \\alpha^{2} + 1 & \\alpha\\\\0 & \\alpha & \\alpha^{2} + 1\\end{matrix}\\right]$"
      ],
      "text/plain": [
       "Matrix([\n",
       "[alpha**2,        alpha,            0],\n",
       "[   alpha, alpha**2 + 1,        alpha],\n",
       "[       0,        alpha, alpha**2 + 1]])"
      ]
     },
     "execution_count": 32,
     "metadata": {},
     "output_type": "execute_result"
    }
   ],
   "source": [
    "B = SymbolicMatrix(\n",
    "    [\n",
    "        [alpha**2, alpha, 0],\n",
    "        [alpha, alpha**2 + 1, alpha],\n",
    "        [0, alpha, alpha**2 + 1]\n",
    "    ]\n",
    ")\n",
    "B.prettify()"
   ]
  },
  {
   "cell_type": "code",
   "execution_count": 33,
   "id": "140a6c1b",
   "metadata": {},
   "outputs": [
    {
     "data": {
      "text/plain": [
       "{alpha**2 - (-9*alpha**4 - 6*alpha**2 + (-3*alpha**2 - 2)**2 - 3)/(3*(-27*alpha**6/2 - (-27*alpha**2 - 18)*(3*alpha**4 + 2*alpha**2 + 1)/2 + (-3*alpha**2 - 2)**3 + sqrt((-27*alpha**6 - (-27*alpha**2 - 18)*(3*alpha**4 + 2*alpha**2 + 1) + 2*(-3*alpha**2 - 2)**3)**2 - 4*(-9*alpha**4 - 6*alpha**2 + (-3*alpha**2 - 2)**2 - 3)**3)/2)**(1/3)) - (-27*alpha**6/2 - (-27*alpha**2 - 18)*(3*alpha**4 + 2*alpha**2 + 1)/2 + (-3*alpha**2 - 2)**3 + sqrt((-27*alpha**6 - (-27*alpha**2 - 18)*(3*alpha**4 + 2*alpha**2 + 1) + 2*(-3*alpha**2 - 2)**3)**2 - 4*(-9*alpha**4 - 6*alpha**2 + (-3*alpha**2 - 2)**2 - 3)**3)/2)**(1/3)/3 + 2/3: 1,\n",
       " alpha**2 - (-9*alpha**4 - 6*alpha**2 + (-3*alpha**2 - 2)**2 - 3)/(3*(-1/2 + sqrt(3)*I/2)*(-27*alpha**6/2 - (-27*alpha**2 - 18)*(3*alpha**4 + 2*alpha**2 + 1)/2 + (-3*alpha**2 - 2)**3 + sqrt((-27*alpha**6 - (-27*alpha**2 - 18)*(3*alpha**4 + 2*alpha**2 + 1) + 2*(-3*alpha**2 - 2)**3)**2 - 4*(-9*alpha**4 - 6*alpha**2 + (-3*alpha**2 - 2)**2 - 3)**3)/2)**(1/3)) - (-1/2 + sqrt(3)*I/2)*(-27*alpha**6/2 - (-27*alpha**2 - 18)*(3*alpha**4 + 2*alpha**2 + 1)/2 + (-3*alpha**2 - 2)**3 + sqrt((-27*alpha**6 - (-27*alpha**2 - 18)*(3*alpha**4 + 2*alpha**2 + 1) + 2*(-3*alpha**2 - 2)**3)**2 - 4*(-9*alpha**4 - 6*alpha**2 + (-3*alpha**2 - 2)**2 - 3)**3)/2)**(1/3)/3 + 2/3: 1,\n",
       " alpha**2 - (-9*alpha**4 - 6*alpha**2 + (-3*alpha**2 - 2)**2 - 3)/(3*(-1/2 - sqrt(3)*I/2)*(-27*alpha**6/2 - (-27*alpha**2 - 18)*(3*alpha**4 + 2*alpha**2 + 1)/2 + (-3*alpha**2 - 2)**3 + sqrt((-27*alpha**6 - (-27*alpha**2 - 18)*(3*alpha**4 + 2*alpha**2 + 1) + 2*(-3*alpha**2 - 2)**3)**2 - 4*(-9*alpha**4 - 6*alpha**2 + (-3*alpha**2 - 2)**2 - 3)**3)/2)**(1/3)) - (-1/2 - sqrt(3)*I/2)*(-27*alpha**6/2 - (-27*alpha**2 - 18)*(3*alpha**4 + 2*alpha**2 + 1)/2 + (-3*alpha**2 - 2)**3 + sqrt((-27*alpha**6 - (-27*alpha**2 - 18)*(3*alpha**4 + 2*alpha**2 + 1) + 2*(-3*alpha**2 - 2)**3)**2 - 4*(-9*alpha**4 - 6*alpha**2 + (-3*alpha**2 - 2)**2 - 3)**3)/2)**(1/3)/3 + 2/3: 1}"
      ]
     },
     "execution_count": 33,
     "metadata": {},
     "output_type": "execute_result"
    }
   ],
   "source": [
    "B.eigen_values()"
   ]
  },
  {
   "cell_type": "code",
   "execution_count": 36,
   "id": "c728dd90",
   "metadata": {},
   "outputs": [
    {
     "data": {
      "text/latex": [
       "$\\displaystyle \\alpha^{2} - \\frac{- 9 \\alpha^{4} - 6 \\alpha^{2} + \\left(- 3 \\alpha^{2} - 2\\right)^{2} - 3}{3 \\left(- \\frac{27 \\alpha^{6}}{2} - \\frac{\\left(- 27 \\alpha^{2} - 18\\right) \\left(3 \\alpha^{4} + 2 \\alpha^{2} + 1\\right)}{2} + \\left(- 3 \\alpha^{2} - 2\\right)^{3} + \\frac{\\left(- 27 \\alpha^{6} - \\left(- 27 \\alpha^{2} - 18\\right) \\left(3 \\alpha^{4} + 2 \\alpha^{2} + 1\\right) + 2 \\left(- 3 \\alpha^{2} - 2\\right)^{3}\\right)^{2}}{2} - 2 \\left(- 9 \\alpha^{4} - 6 \\alpha^{2} + \\left(- 3 \\alpha^{2} - 2\\right)^{2} - 3\\right)^{3}\\right)^{0.333333333333333}} - \\frac{\\left(- \\frac{27 \\alpha^{6}}{2} - \\frac{\\left(- 27 \\alpha^{2} - 18\\right) \\left(3 \\alpha^{4} + 2 \\alpha^{2} + 1\\right)}{2} + \\left(- 3 \\alpha^{2} - 2\\right)^{3} + \\frac{\\left(- 27 \\alpha^{6} - \\left(- 27 \\alpha^{2} - 18\\right) \\left(3 \\alpha^{4} + 2 \\alpha^{2} + 1\\right) + 2 \\left(- 3 \\alpha^{2} - 2\\right)^{3}\\right)^{2}}{2} - 2 \\left(- 9 \\alpha^{4} - 6 \\alpha^{2} + \\left(- 3 \\alpha^{2} - 2\\right)^{2} - 3\\right)^{3}\\right)^{0.333333333333333}}{3} + 0.666666666666667$"
      ],
      "text/plain": [
       "alpha**2 - (-9*alpha**4 - 6*alpha**2 + (-3*alpha**2 - 2)**2 - 3)*(-27*alpha**6/2 - (-27*alpha**2 - 18)*(3*alpha**4 + 2*alpha**2 + 1)/2 + (-3*alpha**2 - 2)**3 + (-27*alpha**6 - (-27*alpha**2 - 18)*(3*alpha**4 + 2*alpha**2 + 1) + 2*(-3*alpha**2 - 2)**3)**2/2 - 2*(-9*alpha**4 - 6*alpha**2 + (-3*alpha**2 - 2)**2 - 3)**3)**(-0.333333333333333)/3 - (-27*alpha**6/2 - (-27*alpha**2 - 18)*(3*alpha**4 + 2*alpha**2 + 1)/2 + (-3*alpha**2 - 2)**3 + (-27*alpha**6 - (-27*alpha**2 - 18)*(3*alpha**4 + 2*alpha**2 + 1) + 2*(-3*alpha**2 - 2)**3)**2/2 - 2*(-9*alpha**4 - 6*alpha**2 + (-3*alpha**2 - 2)**2 - 3)**3)**0.333333333333333/3 + 0.666666666666667"
      ]
     },
     "execution_count": 36,
     "metadata": {},
     "output_type": "execute_result"
    }
   ],
   "source": [
    "alpha**2 - (-9*alpha**4 - 6*alpha**2 + (-3*alpha**2 - 2)**2 - 3)/(3*(-27*alpha**6/2 - (-27*alpha**2 - 18)*(3*alpha**4 + 2*alpha**2 + 1)/2 + (-3*alpha**2 - 2)**3 + ((-27*alpha**6 - (-27*alpha**2 - 18)*(3*alpha**4 + 2*alpha**2 + 1) + 2*(-3*alpha**2 - 2)**3)**2 - 4*(-9*alpha**4 - 6*alpha**2 + (-3*alpha**2 - 2)**2 - 3)**3)/2)**(1/3)) - (-27*alpha**6/2 - (-27*alpha**2 - 18)*(3*alpha**4 + 2*alpha**2 + 1)/2 + (-3*alpha**2 - 2)**3 + ((-27*alpha**6 - (-27*alpha**2 - 18)*(3*alpha**4 + 2*alpha**2 + 1) + 2*(-3*alpha**2 - 2)**3)**2 - 4*(-9*alpha**4 - 6*alpha**2 + (-3*alpha**2 - 2)**2 - 3)**3)/2)**(1/3)/3 + 2/3"
   ]
  },
  {
   "cell_type": "markdown",
   "id": "a0a5292d",
   "metadata": {},
   "source": []
  },
  {
   "cell_type": "code",
   "execution_count": null,
   "id": "1ab345c3",
   "metadata": {},
   "outputs": [],
   "source": []
  }
 ],
 "metadata": {
  "kernelspec": {
   "display_name": "Python 3",
   "language": "python",
   "name": "python3"
  },
  "language_info": {
   "codemirror_mode": {
    "name": "ipython",
    "version": 3
   },
   "file_extension": ".py",
   "mimetype": "text/x-python",
   "name": "python",
   "nbconvert_exporter": "python",
   "pygments_lexer": "ipython3",
   "version": "3.6.9"
  }
 },
 "nbformat": 4,
 "nbformat_minor": 5
}
